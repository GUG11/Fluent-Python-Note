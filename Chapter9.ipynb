{
 "cells": [
  {
   "cell_type": "markdown",
   "metadata": {},
   "source": [
    "# A Pythonic Object\n",
    "\n",
    "Python data model enbles users to define types that behave as naturally as the built-in types. You can call built-in functions like `repr(), bytes()` on the instances of those types.\n",
    "\n",
    "Chpater overview\n",
    "* build-in functions for user-defined types/objects\n",
    "* implement an alternative constructor as a class method\n",
    "* read-only access to attributes\n",
    "* hash an object\n",
    "* member variables based on slots"
   ]
  },
  {
   "cell_type": "code",
   "execution_count": 1,
   "metadata": {},
   "outputs": [],
   "source": [
    "# prepare the environment\n",
    "%load_ext autoreload\n",
    "%autoreload 2"
   ]
  },
  {
   "cell_type": "markdown",
   "metadata": {},
   "source": [
    "## Object Representations\n",
    "\n",
    "* `repr()`: return a string representing the object for the developer.\n",
    "* `str()`: return a string representing the object for the users.\n",
    "\n",
    "## Vector Class Redux\n",
    "\n",
    "[vector2d.py](./vector2d.py)"
   ]
  },
  {
   "cell_type": "code",
   "execution_count": 2,
   "metadata": {},
   "outputs": [
    {
     "name": "stdout",
     "output_type": "stream",
     "text": [
      "3.0 4.0\n",
      "3.0 4.0\n",
      "(3.0, 4.0)\n",
      "v1 == v1_clone True\n",
      "b'd\\x00\\x00\\x00\\x00\\x00\\x00\\x08@\\x00\\x00\\x00\\x00\\x00\\x00\\x10@'\n",
      "5.0\n",
      "True False\n"
     ]
    }
   ],
   "source": [
    "from vector2d import Vector2dV0\n",
    "\n",
    "v1 = Vector2dV0(3, 4)\n",
    "print(v1.x, v1.y)\n",
    "\n",
    "x, y = v1\n",
    "print(x, y)\n",
    "print(v1)\n",
    "\n",
    "v1_clone = eval(repr(v1))\n",
    "print('v1 == v1_clone', v1 == v1_clone)\n",
    "\n",
    "octets = bytes(v1)\n",
    "print(octets)\n",
    "print(abs(v1))\n",
    "print(bool(v1), bool(Vector2dV0(0,0)))"
   ]
  },
  {
   "cell_type": "markdown",
   "metadata": {},
   "source": [
    "## An Alternative Constructor\n",
    "\n",
    "Construct a `Vector2d` from a binary sequence.\n",
    "\n",
    "```\n",
    "@classmethod\n",
    "def frombytes(cls, octets):\n",
    "    typecode = chr(octets[0])\n",
    "    memv = memoryview(octets[1:]).cast(typecode)\n",
    "    return cls(*memv)\n",
    "```"
   ]
  },
  {
   "cell_type": "code",
   "execution_count": 3,
   "metadata": {},
   "outputs": [
    {
     "name": "stdout",
     "output_type": "stream",
     "text": [
      "(3.0, 4.0)\n"
     ]
    }
   ],
   "source": [
    "from vector2d import Vector2dV1\n",
    "\n",
    "v1 = Vector2dV0(3, 4)\n",
    "octets = bytes(v1)\n",
    "v2 = Vector2dV1.frombytes(octets)\n",
    "print(v2)"
   ]
  },
  {
   "cell_type": "markdown",
   "metadata": {},
   "source": [
    "### classmethod Versus staticmethod\n",
    "\n",
    "* `classmethod`: operates on the class. The first paremeter is the class itself.\n",
    "* `staticmethod`: receive no special argument."
   ]
  },
  {
   "cell_type": "code",
   "execution_count": 4,
   "metadata": {},
   "outputs": [
    {
     "name": "stdout",
     "output_type": "stream",
     "text": [
      "(<class '__main__.Demo'>,)\n",
      "(<class '__main__.Demo'>, 'spam')\n",
      "()\n",
      "('spam',)\n"
     ]
    }
   ],
   "source": [
    "class Demo:\n",
    "    @classmethod\n",
    "    def klassmeth(*args):\n",
    "        return args\n",
    "    \n",
    "    @staticmethod\n",
    "    def statmeth(*args):\n",
    "        return args\n",
    "    \n",
    "print(Demo.klassmeth())\n",
    "print(Demo.klassmeth('spam'))\n",
    "print(Demo.statmeth())\n",
    "print(Demo.statmeth('spam'))"
   ]
  },
  {
   "cell_type": "markdown",
   "metadata": {},
   "source": [
    "## Formatted Displays\n",
    "\n",
    "`format()` and `str.format()` delegate the actual formatting to each type by calling their `.__format__(format_spec)` method.\n",
    "\n",
    "See [Format Specification Mini-Language](https://docs.python.org/3/library/string.html#format-specification-mini-language)"
   ]
  },
  {
   "cell_type": "code",
   "execution_count": 5,
   "metadata": {},
   "outputs": [
    {
     "name": "stdout",
     "output_type": "stream",
     "text": [
      "0.4115226337448559\n",
      "0.4115\n",
      "1 BRL = 0.41 USD\n"
     ]
    }
   ],
   "source": [
    "brl = 1 / 2.43\n",
    "print(brl)\n",
    "print(format(brl, '0.4f'))\n",
    "print('1 BRL = {rate:0.2f} USD'.format(rate=brl))"
   ]
  },
  {
   "cell_type": "code",
   "execution_count": 6,
   "metadata": {},
   "outputs": [
    {
     "name": "stdout",
     "output_type": "stream",
     "text": [
      "101010\n",
      "66.7%\n"
     ]
    }
   ],
   "source": [
    "print(format(42, 'b'))\n",
    "print(format(2/3, '.1%'))"
   ]
  },
  {
   "cell_type": "code",
   "execution_count": 7,
   "metadata": {},
   "outputs": [
    {
     "name": "stdout",
     "output_type": "stream",
     "text": [
      "12:13:35\n",
      "It's now 12:13 PM\n"
     ]
    }
   ],
   "source": [
    "from datetime import datetime\n",
    "now = datetime.now()\n",
    "print(format(now, '%H:%M:%S'))\n",
    "print(\"It's now {:%I:%M %p}\".format(now))"
   ]
  },
  {
   "cell_type": "markdown",
   "metadata": {},
   "source": [
    "If a class has no `__format__`, the method inherited from object returns `str(my_object)`. However, passing a format specifier raises `TypeError`."
   ]
  },
  {
   "cell_type": "code",
   "execution_count": 8,
   "metadata": {},
   "outputs": [
    {
     "data": {
      "text/plain": [
       "'(3.0, 4.0)'"
      ]
     },
     "execution_count": 8,
     "metadata": {},
     "output_type": "execute_result"
    }
   ],
   "source": [
    "from vector2d import Vector2dV0\n",
    "v1 = Vector2dV0(3, 4)\n",
    "format(v1)"
   ]
  },
  {
   "cell_type": "code",
   "execution_count": 9,
   "metadata": {},
   "outputs": [
    {
     "ename": "TypeError",
     "evalue": "unsupported format string passed to Vector2dV0.__format__",
     "output_type": "error",
     "traceback": [
      "\u001b[0;31m---------------------------------------------------------------------------\u001b[0m",
      "\u001b[0;31mTypeError\u001b[0m                                 Traceback (most recent call last)",
      "\u001b[0;32m<ipython-input-9-9f7764dc3848>\u001b[0m in \u001b[0;36m<module>\u001b[0;34m\u001b[0m\n\u001b[0;32m----> 1\u001b[0;31m \u001b[0mformat\u001b[0m\u001b[0;34m(\u001b[0m\u001b[0mv1\u001b[0m\u001b[0;34m,\u001b[0m \u001b[0;34m'.3f'\u001b[0m\u001b[0;34m)\u001b[0m\u001b[0;34m\u001b[0m\u001b[0;34m\u001b[0m\u001b[0m\n\u001b[0m",
      "\u001b[0;31mTypeError\u001b[0m: unsupported format string passed to Vector2dV0.__format__"
     ]
    }
   ],
   "source": [
    "format(v1, '.3f')"
   ]
  },
  {
   "cell_type": "markdown",
   "metadata": {},
   "source": [
    "Fix it by implementing `__format__`. See `Vector2dV2` in [vector2d.py](./vector2d.py)."
   ]
  },
  {
   "cell_type": "code",
   "execution_count": 10,
   "metadata": {},
   "outputs": [
    {
     "name": "stdout",
     "output_type": "stream",
     "text": [
      "(3.00, 4.00)\n",
      "(3.000e+00, 4.000e+00)\n",
      "<5.0, 0.9272952180016122>\n",
      "<5.000e+00, 9.273e-01>\n"
     ]
    }
   ],
   "source": [
    "from vector2d import Vector2dV2\n",
    "v2 = Vector2dV2(3, 4)\n",
    "print(format(v2, '.2f'))\n",
    "print(format(v2, '.3e'))\n",
    "print(format(v2, 'p'))\n",
    "print(format(v2, '.3ep'))"
   ]
  },
  {
   "cell_type": "markdown",
   "metadata": {},
   "source": [
    "## A Hashable Vector2d"
   ]
  },
  {
   "cell_type": "code",
   "execution_count": 11,
   "metadata": {},
   "outputs": [
    {
     "name": "stdout",
     "output_type": "stream",
     "text": [
      "7 384307168202284039\n",
      "{Vector2dV3(3.1, 4.2), Vector2dV3(3.0, 4.0)}\n"
     ]
    }
   ],
   "source": [
    "from vector2d import Vector2dV3\n",
    "\n",
    "v1 = Vector2dV3(3, 4)\n",
    "v2 = Vector2dV3(3.1, 4.2)\n",
    "print(hash(v1), hash(v2))\n",
    "print({v1, v2})"
   ]
  },
  {
   "cell_type": "markdown",
   "metadata": {},
   "source": [
    "## Saving Space with the __slots__ Class Attribute\n",
    "By default, Python stores instance attributes in a per-instance `dict` named `__dict__`. `dict` has a singificant memory overhead. Use `__slots__` class attributes saves a lot of memory by changing the dict to a tuple."
   ]
  },
  {
   "cell_type": "code",
   "execution_count": 12,
   "metadata": {},
   "outputs": [
    {
     "name": "stdout",
     "output_type": "stream",
     "text": [
      "Selected Vector2d type: Vector2dV3\n",
      "Creating 10,000,000 Vector2d instances\n",
      "Initial RAM usage:     47,882,240\n",
      "  Final RAM usage:  1,847,603,200\n",
      "Selected Vector2d type: Vector2dV3Slots\n",
      "Creating 10,000,000 Vector2d instances\n",
      "Initial RAM usage:  1,847,603,200\n",
      "  Final RAM usage:  2,059,440,128\n"
     ]
    }
   ],
   "source": [
    "from vector2d import Vector2dV3, Vector2dV3Slots\n",
    "import sys\n",
    "import resource\n",
    "\n",
    "NUM_VECTORS = 10**7\n",
    "\n",
    "def test_mem(cls: type):\n",
    "    fmt = 'Selected Vector2d type: {.__name__}'\n",
    "    print(fmt.format(cls))\n",
    "\n",
    "    mem_init = resource.getrusage(resource.RUSAGE_SELF).ru_maxrss\n",
    "    print('Creating {:,} Vector2d instances'.format(NUM_VECTORS))\n",
    "\n",
    "    vectors = [cls(3.0, 4.0) for i in range(NUM_VECTORS)]\n",
    "\n",
    "    mem_final = resource.getrusage(resource.RUSAGE_SELF).ru_maxrss\n",
    "    print('Initial RAM usage: {:14,}'.format(mem_init))\n",
    "    print('  Final RAM usage: {:14,}'.format(mem_final))\n",
    "\n",
    "test_mem(Vector2dV3)\n",
    "test_mem(Vector2dV3Slots)"
   ]
  },
  {
   "cell_type": "code",
   "execution_count": null,
   "metadata": {},
   "outputs": [],
   "source": []
  }
 ],
 "metadata": {
  "kernelspec": {
   "display_name": "Python 3",
   "language": "python",
   "name": "python3"
  },
  "language_info": {
   "codemirror_mode": {
    "name": "ipython",
    "version": 3
   },
   "file_extension": ".py",
   "mimetype": "text/x-python",
   "name": "python",
   "nbconvert_exporter": "python",
   "pygments_lexer": "ipython3",
   "version": "3.7.3"
  }
 },
 "nbformat": 4,
 "nbformat_minor": 4
}
