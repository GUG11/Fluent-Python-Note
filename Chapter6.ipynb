{
 "cells": [
  {
   "cell_type": "markdown",
   "metadata": {},
   "source": [
    "# Chapter 6 Design Patterns with First-Class Functions\n",
    "\n",
    "Some design patterns may be either invisible or simpler in a dynamic language.\n",
    "\n",
    "## Case Study: Refactoring Strategy\n",
    "\n",
    "Class Inheritance based implementation"
   ]
  },
  {
   "cell_type": "code",
   "execution_count": 6,
   "metadata": {},
   "outputs": [],
   "source": [
    "from abc import ABC, abstractmethod\n",
    "from collections import namedtuple\n",
    "\n",
    "Customer = namedtuple('Customer', 'name fidelity')\n",
    "\n",
    "class LineItem:\n",
    "    def __init__(self, product: str, quantity: int, price: float):\n",
    "        self.product = product\n",
    "        self.quantity = quantity\n",
    "        self.price = price\n",
    "        \n",
    "    def total(self) -> float:\n",
    "        return self.price * self.quantity"
   ]
  },
  {
   "cell_type": "code",
   "execution_count": 7,
   "metadata": {},
   "outputs": [],
   "source": [
    "from __future__ import annotations\n",
    "from typing import List\n",
    "\n",
    "class Order:\n",
    "    def __init__(self, customer: Customer, cart: List[LineItem], promotion:Promotion=None):\n",
    "        self.customer = customer\n",
    "        self.cart = cart\n",
    "        self.promotion = promotion\n",
    "        \n",
    "    def total(self) -> float:\n",
    "        if not hasattr(self, '__total'):\n",
    "            self.__total = sum(item.total() for item in self.cart)\n",
    "        return self.__total\n",
    "    \n",
    "    def due(self) -> float:\n",
    "        if self.promotion is None:\n",
    "            discount = 0\n",
    "        else:\n",
    "            discount = self.promotion.discount(self)\n",
    "        return self.total() - discount\n",
    "    \n",
    "    def __repr__(self) -> str:\n",
    "        return '<Order total: {:.2f} due: {:2f}>'.format(self.total(), self.due())"
   ]
  },
  {
   "cell_type": "markdown",
   "metadata": {},
   "source": [
    "Promotion strategies"
   ]
  },
  {
   "cell_type": "code",
   "execution_count": 9,
   "metadata": {},
   "outputs": [],
   "source": [
    "class Promotion(ABC):\n",
    "    @abstractmethod\n",
    "    def discount(self, order: Order):\n",
    "        \"\"\"Return discount as a positive dollar amount\"\"\"\n",
    "    \n",
    "class FidelityPromo(Promotion):\n",
    "    \"\"\"5% discount for customers with 1000 or more fidelity points\"\"\"\n",
    "    def discount(self, order: Order) -> float:\n",
    "        return order.total() * .05 if order.customer.fidelity >= 1000 else 0\n",
    "    \n",
    "class BulkItemPromo(Promotion):\n",
    "    \"\"\"10% discount for each LineItem with 20 or more units\"\"\"\n",
    "    def discount(self, order: Order) -> float:\n",
    "        return sum((item.total() * .1 for item in order.cart if item.quantity >= 20))\n",
    "    \n",
    "class LargeOrderPromo(Promotion):\n",
    "    \"\"\"7% discount for orders with 10 or more distinct items\"\"\"\n",
    "    def discount(self, order: Order) -> float:\n",
    "        distinct_items = set(map(lambda item: item.product, order.cart))\n",
    "        if len(distinct_items) >= 10:\n",
    "            return order.total() * 0.07\n",
    "        return 0"
   ]
  },
  {
   "cell_type": "markdown",
   "metadata": {},
   "source": [
    "Usage or Order class with different promotions"
   ]
  },
  {
   "cell_type": "code",
   "execution_count": 15,
   "metadata": {},
   "outputs": [
    {
     "name": "stdout",
     "output_type": "stream",
     "text": [
      "Joe Fidelity: <Order total: 42.00 due: 42.000000>\n",
      "Ann Fidelity: <Order total: 42.00 due: 39.900000>\n",
      "Joe BulkItem: <Order total: 30.00 due: 28.500000>\n",
      "Joe LargeOrder: <Order total: 10.00 due: 9.300000>\n"
     ]
    }
   ],
   "source": [
    "joe = Customer('John Doe', 0)\n",
    "ann = Customer('Ann Smith', 1100)\n",
    "\n",
    "cart = [LineItem('banana', 4, .5),\n",
    "        LineItem('apple', 10, 1.5),\n",
    "        LineItem('watermellon', 5, 5.0)]\n",
    "\n",
    "print('Joe Fidelity:', Order(joe, cart, FidelityPromo()))\n",
    "print('Ann Fidelity:', Order(ann, cart, FidelityPromo()))\n",
    "\n",
    "banana_cart = [LineItem('banana', 30, .5),\n",
    "               LineItem('apple', 10, 1.5)]\n",
    "print('Joe BulkItem:', Order(joe, banana_cart, BulkItemPromo()))\n",
    "long_order = [LineItem(str(item_code), 1, 1.0) for item_code in range(10)]\n",
    "print('Joe LargeOrder:', Order(joe, long_order, LargeOrderPromo()))"
   ]
  },
  {
   "cell_type": "markdown",
   "metadata": {},
   "source": [
    "### Function-Oriented Strategy\n",
    "\n",
    "The `Promotion` has a single method `discount` and has no state. Therefore `Promotion`s can be replaced by functions."
   ]
  },
  {
   "cell_type": "code",
   "execution_count": 16,
   "metadata": {},
   "outputs": [],
   "source": [
    "from typing import Callable\n",
    "\n",
    "class Order:\n",
    "    def __init__(self, customer: Customer, cart: Order, promotion: Callable[[Order], float]=None):\n",
    "        self.customer = customer\n",
    "        self.cart = cart\n",
    "        self.promotion = promotion\n",
    "    \n",
    "    def total(self) -> float:\n",
    "        if not hasattr(self, '__total'):\n",
    "            self.__total = sum(item.total() for item in self.cart)\n",
    "        return self.__total\n",
    "    \n",
    "    def due(self) -> float:\n",
    "        if self.promotion is None:\n",
    "            discount = 0\n",
    "        else:\n",
    "            discount = self.promotion(self)\n",
    "        return self.total() - discount\n",
    "    \n",
    "    def __repr__(self) -> str:\n",
    "        return '<Order total: {:.2f} due: {:.2f}>'.format(self.total(), self.due())"
   ]
  },
  {
   "cell_type": "code",
   "execution_count": 20,
   "metadata": {},
   "outputs": [],
   "source": [
    "def fidelity_promo(order: Order) -> float:\n",
    "    \"\"\"5% discount for customers with 1000 or more fidelity points\"\"\" \n",
    "    return order.total() * .05 if order.customer.fidelity >= 1000 else 0\n",
    "    \n",
    "def bulk_item_promo(order: Order) -> float:\n",
    "    \"\"\"10% discount for each LineItem with 20 or more units\"\"\" \n",
    "    return sum((item.total() * .1 for item in order.cart if item.quantity >= 20))\n",
    "    \n",
    "def large_order_promo(order: Order) -> float:\n",
    "    \"\"\"7% discount for orders with 10 or more distinct items\"\"\"\n",
    "    distinct_items = set(map(lambda item: item.product, order.cart))\n",
    "    if len(distinct_items) >= 10:\n",
    "        return order.total() * 0.07\n",
    "    return 0"
   ]
  },
  {
   "cell_type": "code",
   "execution_count": 21,
   "metadata": {},
   "outputs": [
    {
     "name": "stdout",
     "output_type": "stream",
     "text": [
      "Joe Fidelity: <Order total: 42.00 due: 42.00>\n",
      "Ann Fidelity: <Order total: 42.00 due: 39.90>\n",
      "Joe BulkItem: <Order total: 30.00 due: 28.50>\n",
      "Joe LargeOrder: <Order total: 10.00 due: 9.30>\n"
     ]
    }
   ],
   "source": [
    "joe = Customer('John Doe', 0)\n",
    "ann = Customer('Ann Smith', 1100)\n",
    "\n",
    "cart = [LineItem('banana', 4, .5),\n",
    "        LineItem('apple', 10, 1.5),\n",
    "        LineItem('watermellon', 5, 5.0)]\n",
    "\n",
    "print('Joe Fidelity:', Order(joe, cart, fidelity_promo))\n",
    "print('Ann Fidelity:', Order(ann, cart, fidelity_promo))\n",
    "\n",
    "banana_cart = [LineItem('banana', 30, .5),\n",
    "               LineItem('apple', 10, 1.5)]\n",
    "print('Joe BulkItem:', Order(joe, banana_cart, bulk_item_promo))\n",
    "long_order = [LineItem(str(item_code), 1, 1.0) for item_code in range(10)]\n",
    "print('Joe LargeOrder:', Order(joe, long_order, large_order_promo))"
   ]
  },
  {
   "cell_type": "markdown",
   "metadata": {},
   "source": [
    "### Finding Strategies in a Module\n",
    "\n",
    "Filter names ending with `_promo`."
   ]
  },
  {
   "cell_type": "code",
   "execution_count": 27,
   "metadata": {},
   "outputs": [
    {
     "name": "stdout",
     "output_type": "stream",
     "text": [
      "[<function fidelity_promo at 0x7fc21040d400>, <function bulk_item_promo at 0x7fc1f69b7ea0>, <function large_order_promo at 0x7fc1f69b7840>]\n"
     ]
    }
   ],
   "source": [
    "promos = [func for name, func in globals().items() if name.endswith('_promo') and name != 'best_promo']\n",
    "\n",
    "def best_promo(order):\n",
    "    return max(promo(order) for promo in promos)\n",
    "\n",
    "print(promos)"
   ]
  },
  {
   "cell_type": "code",
   "execution_count": 31,
   "metadata": {},
   "outputs": [
    {
     "name": "stdout",
     "output_type": "stream",
     "text": [
      "0\n",
      "1.5\n",
      "0.7000000000000001\n"
     ]
    }
   ],
   "source": [
    "print(best_promo(Order(joe, cart)))\n",
    "print(best_promo(Order(joe, banana_cart)))\n",
    "print(best_promo(Order(joe, long_order)))"
   ]
  }
 ],
 "metadata": {
  "kernelspec": {
   "display_name": "Python 3",
   "language": "python",
   "name": "python3"
  },
  "language_info": {
   "codemirror_mode": {
    "name": "ipython",
    "version": 3
   },
   "file_extension": ".py",
   "mimetype": "text/x-python",
   "name": "python",
   "nbconvert_exporter": "python",
   "pygments_lexer": "ipython3",
   "version": "3.7.3"
  }
 },
 "nbformat": 4,
 "nbformat_minor": 4
}
