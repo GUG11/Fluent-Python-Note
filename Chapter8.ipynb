{
 "cells": [
  {
   "cell_type": "markdown",
   "metadata": {},
   "source": [
    "# Chapter 8 Object References, Mutability and Recycling\n",
    "\n",
    "## Variables are not Boxes\n",
    "They are tags on objects. A variable is assigned to an object, not the other way around."
   ]
  },
  {
   "cell_type": "code",
   "execution_count": 1,
   "metadata": {},
   "outputs": [
    {
     "name": "stdout",
     "output_type": "stream",
     "text": [
      "[1, 2, 3, 4]\n"
     ]
    }
   ],
   "source": [
    "a = [1, 2, 3]\n",
    "b = a\n",
    "a.append(4)\n",
    "print(b)"
   ]
  },
  {
   "cell_type": "code",
   "execution_count": 3,
   "metadata": {},
   "outputs": [
    {
     "name": "stdout",
     "output_type": "stream",
     "text": [
      "Gizmo id: 140438589093480\n",
      "Gizmo id: 140438589093536\n"
     ]
    },
    {
     "ename": "TypeError",
     "evalue": "unsupported operand type(s) for *: 'Gizmo' and 'int'",
     "output_type": "error",
     "traceback": [
      "\u001b[0;31m---------------------------------------------------------------------------\u001b[0m",
      "\u001b[0;31mTypeError\u001b[0m                                 Traceback (most recent call last)",
      "\u001b[0;32m<ipython-input-3-58817fdff03e>\u001b[0m in \u001b[0;36m<module>\u001b[0;34m\u001b[0m\n\u001b[1;32m      5\u001b[0m \u001b[0;34m\u001b[0m\u001b[0m\n\u001b[1;32m      6\u001b[0m \u001b[0mx\u001b[0m \u001b[0;34m=\u001b[0m \u001b[0mGizmo\u001b[0m\u001b[0;34m(\u001b[0m\u001b[0;34m)\u001b[0m\u001b[0;34m\u001b[0m\u001b[0;34m\u001b[0m\u001b[0m\n\u001b[0;32m----> 7\u001b[0;31m \u001b[0my\u001b[0m \u001b[0;34m=\u001b[0m \u001b[0mGizmo\u001b[0m\u001b[0;34m(\u001b[0m\u001b[0;34m)\u001b[0m \u001b[0;34m*\u001b[0m \u001b[0;36m10\u001b[0m\u001b[0;34m\u001b[0m\u001b[0;34m\u001b[0m\u001b[0m\n\u001b[0m",
      "\u001b[0;31mTypeError\u001b[0m: unsupported operand type(s) for *: 'Gizmo' and 'int'"
     ]
    }
   ],
   "source": [
    "# Example 8-2. Variables are assigned to objects only after the objects are created\n",
    "class Gizmo:\n",
    "    def __init__(self):\n",
    "        print('Gizmo id: {}'.format(id(self)))\n",
    "\n",
    "x = Gizmo()\n",
    "y = Gizmo() * 10"
   ]
  },
  {
   "cell_type": "markdown",
   "metadata": {},
   "source": [
    "## Identity, Equality, and Aliases\n",
    "\n",
    "* Identitiy: Two objects has the same id. It is checked by the `is` operator.\n",
    "* Equality: Two objects has the same values. It is checked by the `==` operator."
   ]
  },
  {
   "cell_type": "code",
   "execution_count": 6,
   "metadata": {},
   "outputs": [
    {
     "name": "stdout",
     "output_type": "stream",
     "text": [
      "lewis is charles: True\n",
      "id of charles: 140438345536568. id of lewis: 140438345536568\n",
      "{'name': 'Charles L. Dodgson', 'born': 1832, 'balance': 950}\n"
     ]
    }
   ],
   "source": [
    "charles = {'name': 'Charles L. Dodgson', 'born': 1832}\n",
    "lewis = charles\n",
    "print('lewis is charles:', lewis is charles)\n",
    "print('id of charles: {}. id of lewis: {}'.format(id(charles), id(lewis)))\n",
    "lewis['balance'] = 950\n",
    "print(charles)"
   ]
  },
  {
   "cell_type": "code",
   "execution_count": 7,
   "metadata": {},
   "outputs": [
    {
     "name": "stdout",
     "output_type": "stream",
     "text": [
      "alex == charles True\n",
      "alex is not charles True\n"
     ]
    }
   ],
   "source": [
    "alex = {'name': 'Charles L. Dodgson', 'born': 1832, 'balance': 950}\n",
    "print('alex == charles', alex == charles)\n",
    "print('alex is not charles', alex is not charles)"
   ]
  },
  {
   "cell_type": "markdown",
   "metadata": {},
   "source": [
    "### Choosing Between == and is\n",
    "\n",
    "Generally, `==` is more frequently used than `is`. However, use `is` when you compare a variable to a singleton (extremely case `None`).\n",
    "```\n",
    "x is None\n",
    "x is not None\n",
    "```\n",
    "`is` is faster than `==` because `is` cannot be overloaded.\n",
    "\n",
    "### The Relative Immutability of Tuples\n",
    "Tuples hold reference to objects. If the referenced items are mutable, they may change."
   ]
  },
  {
   "cell_type": "code",
   "execution_count": 9,
   "metadata": {},
   "outputs": [
    {
     "name": "stdout",
     "output_type": "stream",
     "text": [
      "t1 == t2 True\n",
      "id of t1: 140438346638536\n",
      "(1, 2, [30, 40, 99])\n",
      "id of t1: 140438346638536\n",
      "t1 == t2 False\n"
     ]
    }
   ],
   "source": [
    "t1 = (1, 2, [30, 40])\n",
    "t2 = (1, 2, [30, 40])\n",
    "print('t1 == t2', t1 == t2)\n",
    "print('id of t1:', id(t1[-1]))\n",
    "t1[-1].append(99)\n",
    "print(t1)\n",
    "print('id of t1:', id(t1[-1]))\n",
    "print('t1 == t2', t1 == t2)"
   ]
  },
  {
   "cell_type": "markdown",
   "metadata": {},
   "source": [
    "## Copies Are Shallow by Default\n",
    "\n",
    "Using the constructor `list()` or `[:]` produces a shallow copy. The outermost container is duplicated, but the copy is filled with references to the sam items held by the original container."
   ]
  },
  {
   "cell_type": "code",
   "execution_count": 2,
   "metadata": {},
   "outputs": [
    {
     "name": "stdout",
     "output_type": "stream",
     "text": [
      "l1: [3, [66, 44], (7, 8, 9), 100]\n",
      "l2: [3, [66, 44], (7, 8, 9)]\n",
      "l1: [3, [66, 44, 33, 22], (7, 8, 9), 100]\n",
      "l2: [3, [66, 44, 33, 22], (7, 8, 9, 10, 11)]\n"
     ]
    }
   ],
   "source": [
    "l1 = [3, [66, 55, 44], (7, 8, 9)]\n",
    "l2 = list(l1)\n",
    "l1.append(100)\n",
    "l1[1].remove(55)\n",
    "print('l1:', l1)\n",
    "print('l2:', l2)\n",
    "l1[1] += [33, 22]  # for a mutable object, the operator += cahnges the list in place\n",
    "l2[2] += (10, 11)  # create a new tuple and rebinds the variable l2[2]\n",
    "print('l1:', l1)\n",
    "print('l2:', l2)"
   ]
  },
  {
   "cell_type": "markdown",
   "metadata": {},
   "source": [
    "Before the operation\n",
    "```\n",
    "l1 --->  | 3 | list | tuple |\n",
    "l2 --->  | 3 | list | tuple |\n",
    "list --> [66, 55, 44]\n",
    "tuple --> (7, 8, 9)\n",
    "```\n",
    "\n",
    "After the operation\n",
    "```\n",
    "l1 --->  | 3 | list | tuple1 |\n",
    "l2 --->  | 3 | list | tuple2 |\n",
    "list --> [66, 44, 33, 22]\n",
    "tuple1 --> (7, 8, 9)\n",
    "tuple2 --> (7, 8, 9, 10, 11)\n",
    "```"
   ]
  },
  {
   "cell_type": "markdown",
   "metadata": {},
   "source": [
    "### Deep and Shallow Copies of Arbitrary Objects\n",
    "\n",
    "* `copy.copy` shallow. A shallow copy constructs a new compound object and then (to the extent possible) inserts references into it to the objects found in the original.\n",
    "* `copy.deepcopy` deep. A deep copy constructs a new compound object and then, recursively, inserts copies into it of the objects found in the original."
   ]
  },
  {
   "cell_type": "code",
   "execution_count": 5,
   "metadata": {},
   "outputs": [],
   "source": [
    "from typing import List\n",
    "\n",
    "class Bus:\n",
    "    def __init__(self, passengers : List[str] = None):\n",
    "        if passengers is None:\n",
    "            self.passengers = []\n",
    "        else:\n",
    "            self.passengers = list(passengers)\n",
    "            \n",
    "    def pick(self, name: str):\n",
    "        self.passengers.append(name)\n",
    "    \n",
    "    def drop(self, name: str):\n",
    "        self.passengers.remove(name)"
   ]
  },
  {
   "cell_type": "code",
   "execution_count": 6,
   "metadata": {},
   "outputs": [
    {
     "name": "stdout",
     "output_type": "stream",
     "text": [
      "ids: 139894218686304 139894218686192 139894218685744\n",
      "passengers on bus 2: ['Alice', 'Claire', 'David']\n",
      "passenrgers.ids: 139894223563848 139894223563848 139894217906376\n",
      "passengers on bus 3: ['Alice', 'Bill', 'Claire', 'David']\n"
     ]
    }
   ],
   "source": [
    "import copy\n",
    "\n",
    "bus1 = Bus(['Alice', 'Bill', 'Claire', 'David'])\n",
    "bus2 = copy.copy(bus1)\n",
    "bus3 = copy.deepcopy(bus1)\n",
    "print('ids:', id(bus1), id(bus2), id(bus3))\n",
    "bus1.drop('Bill')\n",
    "print('passengers on bus 2:', bus2.passengers)\n",
    "print('passenrgers.ids:', id(bus1.passengers), id(bus2.passengers), id(bus3.passengers))\n",
    "print('passengers on bus 3:', bus3.passengers)"
   ]
  },
  {
   "cell_type": "markdown",
   "metadata": {},
   "source": [
    "`deepcopy` address cylcic references"
   ]
  },
  {
   "cell_type": "code",
   "execution_count": 8,
   "metadata": {},
   "outputs": [
    {
     "name": "stdout",
     "output_type": "stream",
     "text": [
      "[10, 20, [[...], 30]]\n",
      "[10, 20, [[...], 30]]\n"
     ]
    }
   ],
   "source": [
    "a = [10, 20]\n",
    "b = [a, 30]\n",
    "a.append(b)\n",
    "print(a)\n",
    "c = copy.deepcopy(a)\n",
    "print(c)"
   ]
  },
  {
   "cell_type": "markdown",
   "metadata": {},
   "source": [
    "## Funciton Parameters as References\n",
    "\n",
    "The only mode is call by sharing, meaning each formal parameter of the function gets a copy of each reference in the arguments.\n",
    "\n",
    "The result of this schema is that a function may change any mutatble object passed as a parameter, but it cannot change the identity of those objects."
   ]
  },
  {
   "cell_type": "code",
   "execution_count": 10,
   "metadata": {},
   "outputs": [],
   "source": [
    "def f(a, b):\n",
    "    a += b\n",
    "    return a"
   ]
  },
  {
   "cell_type": "code",
   "execution_count": 11,
   "metadata": {},
   "outputs": [
    {
     "name": "stdout",
     "output_type": "stream",
     "text": [
      "1 2\n"
     ]
    }
   ],
   "source": [
    "x, y = 1, 2\n",
    "f(x, y)\n",
    "print(x, y)"
   ]
  },
  {
   "cell_type": "code",
   "execution_count": 12,
   "metadata": {},
   "outputs": [
    {
     "name": "stdout",
     "output_type": "stream",
     "text": [
      "[1, 2, 3, 4] [3, 4]\n"
     ]
    }
   ],
   "source": [
    "a = [1, 2]\n",
    "b = [3, 4]\n",
    "f(a, b)\n",
    "print(a, b)"
   ]
  },
  {
   "cell_type": "code",
   "execution_count": 13,
   "metadata": {},
   "outputs": [
    {
     "name": "stdout",
     "output_type": "stream",
     "text": [
      "(10, 20) (30, 40)\n"
     ]
    }
   ],
   "source": [
    "t = (10, 20)\n",
    "u = (30, 40)\n",
    "f(t, u)\n",
    "print(t, u)"
   ]
  },
  {
   "cell_type": "markdown",
   "metadata": {},
   "source": [
    "### Mutable Types as Parameter Defaults: Bad Idea\n",
    "\n",
    "You should avoid mutable objects as default values for parameters."
   ]
  },
  {
   "cell_type": "code",
   "execution_count": 21,
   "metadata": {},
   "outputs": [],
   "source": [
    "class HauntedBus:\n",
    "    \"\"\"A bus model haunted by ghost passengers\"\"\"\n",
    "    def __init__(self, passengers: List[str] = []):\n",
    "        self.passengers = passengers\n",
    "    \n",
    "    def pick(self, name: str):\n",
    "        self.passengers.append(name)\n",
    "    \n",
    "    def drop(self, name: str):\n",
    "        self.passengers.remove(name)"
   ]
  },
  {
   "cell_type": "code",
   "execution_count": 22,
   "metadata": {},
   "outputs": [
    {
     "name": "stdout",
     "output_type": "stream",
     "text": [
      "passengers in bus 1:  []\n",
      "passengers in bus 1:  ['Charlie']\n",
      "passengers in bus 2:  ['Charlie']\n"
     ]
    }
   ],
   "source": [
    "bus1 = HauntedBus()\n",
    "print('passengers in bus 1: ', bus1.passengers)\n",
    "bus1.pick('Charlie')\n",
    "print('passengers in bus 1: ', bus1.passengers)\n",
    "bus2 = HauntedBus()\n",
    "print('passengers in bus 2: ', bus2.passengers)"
   ]
  },
  {
   "cell_type": "markdown",
   "metadata": {},
   "source": [
    "`bus1` and `bus2` end up sharing the same list (default). Inspect the inner structure:"
   ]
  },
  {
   "cell_type": "code",
   "execution_count": 26,
   "metadata": {},
   "outputs": [
    {
     "data": {
      "text/plain": [
       "(['Charlie'],)"
      ]
     },
     "execution_count": 26,
     "metadata": {},
     "output_type": "execute_result"
    }
   ],
   "source": [
    "HauntedBus.__init__.__defaults__"
   ]
  },
  {
   "cell_type": "markdown",
   "metadata": {},
   "source": [
    "### Defensive Programming with Mutable Parameters\n",
    "\n",
    "When you are coding a function that receives a mutable parameter, you should carefully consider whether the caller expects the argument passed to be changed."
   ]
  },
  {
   "cell_type": "code",
   "execution_count": 34,
   "metadata": {},
   "outputs": [],
   "source": [
    "class TwilightBus(Bus):\n",
    "    def __init__(self, passegners=None):\n",
    "        self.passengers = passegners if passegners is not None else []"
   ]
  },
  {
   "cell_type": "code",
   "execution_count": 35,
   "metadata": {},
   "outputs": [
    {
     "name": "stdout",
     "output_type": "stream",
     "text": [
      "['Sue', 'Maya', 'Diana']\n"
     ]
    }
   ],
   "source": [
    "basketball_team = ['Sue', 'Tina', 'Maya', 'Diana', 'Pat']\n",
    "bus = TwilightBus(basketball_team)\n",
    "bus.drop('Tina')\n",
    "bus.drop('Pat')\n",
    "print(basketball_team)"
   ]
  },
  {
   "cell_type": "markdown",
   "metadata": {},
   "source": [
    "## del and Garbage Collection\n",
    "\n",
    "The `del` statement deletes names, not objects. An object is garbage collected when the reference count become 0."
   ]
  },
  {
   "cell_type": "code",
   "execution_count": 38,
   "metadata": {},
   "outputs": [
    {
     "name": "stdout",
     "output_type": "stream",
     "text": [
      "alive:  True\n",
      "alive:  True\n",
      "Gone with the wind...\n",
      "alive:  False\n"
     ]
    }
   ],
   "source": [
    "# End the an object's life\n",
    "import weakref\n",
    "s1 = {1, 2, 3}\n",
    "s2 = s1\n",
    "\n",
    "ender = weakref.finalize(s1, lambda : print('Gone with the wind...'))\n",
    "print('alive: ', ender.alive)\n",
    "del s1\n",
    "print('alive: ', ender.alive)\n",
    "s2 = 'spam'\n",
    "print('alive: ', ender.alive)"
   ]
  },
  {
   "cell_type": "markdown",
   "metadata": {},
   "source": [
    "## Weak References\n",
    "\n",
    "The presence of references is what keeps an object alive in memory. When the reference count of an object reaches zero, the garbage collector disposes of it.\n",
    "\n",
    "Weak references to an object do not include its reference count. The object that is the target of a reference is called the referent. A weak reference does not prevent the referent from being garbage collected."
   ]
  },
  {
   "cell_type": "code",
   "execution_count": 44,
   "metadata": {},
   "outputs": [
    {
     "name": "stdout",
     "output_type": "stream",
     "text": [
      "wref <weakref at 0x7f3ba8c1aa98; to 'set' at 0x7f3ba8c70128>\n",
      "wref val: {0, 1}\n",
      "wref val is None: True\n",
      "wref val: None\n"
     ]
    }
   ],
   "source": [
    "import weakref\n",
    "a_set = {0, 1}\n",
    "wref = weakref.ref(a_set)\n",
    "print('wref', wref)\n",
    "\n",
    "print('wref val:', wref())\n",
    "a_set = {2, 3, 4}\n",
    "print('wref val is None:', wref() is None)\n",
    "print('wref val:', wref())"
   ]
  },
  {
   "cell_type": "markdown",
   "metadata": {},
   "source": [
    "### The WeakValueDictionary Skit\n",
    "\n",
    "The value are weak references to objects. This is commonly used for caching."
   ]
  },
  {
   "cell_type": "code",
   "execution_count": 45,
   "metadata": {},
   "outputs": [],
   "source": [
    "class Cheese:\n",
    "    def __init__(self, kind: str):\n",
    "        self.kind = kind\n",
    "    \n",
    "    def __repr__(self):\n",
    "        return 'Cheese({})'.format(self.kind)"
   ]
  },
  {
   "cell_type": "code",
   "execution_count": 46,
   "metadata": {},
   "outputs": [
    {
     "name": "stdout",
     "output_type": "stream",
     "text": [
      "['Brie', 'Parmesan', 'Red Leicester', 'Tilsit']\n",
      "['Parmesan']\n",
      "[]\n"
     ]
    }
   ],
   "source": [
    "import weakref\n",
    "stock = weakref.WeakValueDictionary()\n",
    "catalog = [Cheese('Red Leicester'), Cheese('Tilsit'), Cheese('Brie'), Cheese('Parmesan')]\n",
    "\n",
    "for cheese in catalog:\n",
    "    stock[cheese.kind] = cheese\n",
    "    \n",
    "print(sorted(stock.keys()))\n",
    "del catalog\n",
    "print(sorted(stock.keys()))\n",
    "del cheese\n",
    "print(sorted(stock.keys()))"
   ]
  },
  {
   "cell_type": "code",
   "execution_count": null,
   "metadata": {},
   "outputs": [],
   "source": []
  }
 ],
 "metadata": {
  "kernelspec": {
   "display_name": "Python 3",
   "language": "python",
   "name": "python3"
  },
  "language_info": {
   "codemirror_mode": {
    "name": "ipython",
    "version": 3
   },
   "file_extension": ".py",
   "mimetype": "text/x-python",
   "name": "python",
   "nbconvert_exporter": "python",
   "pygments_lexer": "ipython3",
   "version": "3.7.3"
  }
 },
 "nbformat": 4,
 "nbformat_minor": 4
}
