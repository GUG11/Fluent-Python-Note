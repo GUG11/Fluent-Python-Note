{
 "cells": [
  {
   "cell_type": "markdown",
   "metadata": {},
   "source": [
    "# Function Decorators and Closures\n",
    "\n",
    "## Decorators 101\n",
    "\n",
    "A decorator is a callable that takes another function as argument. For example, the following snippet\n",
    "```\n",
    "@decorate\n",
    "def target():\n",
    "    print('running target()')\n",
    "```\n",
    "is equivalent to\n",
    "```\n",
    "def target():\n",
    "    print('running target()')\n",
    "\n",
    "target = decorate(target)\n",
    "```\n",
    "\n",
    "They are executed immediately when a module is loaded."
   ]
  },
  {
   "cell_type": "code",
   "execution_count": null,
   "metadata": {},
   "outputs": [],
   "source": [
    "def deco(func):\n",
    "    def inner():\n",
    "        print('running inner()')\n",
    "    return inner\n",
    "\n",
    "@deco\n",
    "def target():\n",
    "    print('running target()')\n",
    "\n",
    "target()\n",
    "print('target:', target)"
   ]
  },
  {
   "cell_type": "markdown",
   "metadata": {},
   "source": [
    "## When Python Executes Decorators\n",
    "They run right after decorated function is defined, which is usually at _import time_. Example [_registration.py_](./registration.py)."
   ]
  },
  {
   "cell_type": "code",
   "execution_count": null,
   "metadata": {},
   "outputs": [],
   "source": [
    "%run registration.py"
   ]
  },
  {
   "cell_type": "markdown",
   "metadata": {},
   "source": [
    "If _registration.py_ is imported."
   ]
  },
  {
   "cell_type": "code",
   "execution_count": null,
   "metadata": {},
   "outputs": [],
   "source": [
    "import registration\n",
    "print('registry ->', registry)"
   ]
  },
  {
   "cell_type": "markdown",
   "metadata": {},
   "source": [
    "## Variable Scope Rules\n",
    "\n",
    "If a variable is neither a parameter nor locally assigned, then the interpreter treats it as a global variable."
   ]
  },
  {
   "cell_type": "code",
   "execution_count": null,
   "metadata": {},
   "outputs": [],
   "source": [
    "def f1(a):\n",
    "    print(a)\n",
    "    print(b)\n",
    "    \n",
    "f1(3)"
   ]
  },
  {
   "cell_type": "markdown",
   "metadata": {},
   "source": [
    "define global variable `b`"
   ]
  },
  {
   "cell_type": "code",
   "execution_count": null,
   "metadata": {},
   "outputs": [],
   "source": [
    "b = 6\n",
    "f1(3)"
   ]
  },
  {
   "cell_type": "markdown",
   "metadata": {},
   "source": [
    "A global variable can be changed to a local variable in a function."
   ]
  },
  {
   "cell_type": "code",
   "execution_count": null,
   "metadata": {},
   "outputs": [],
   "source": [
    "b = 6\n",
    "def f2(a):\n",
    "    print(a)\n",
    "    print(b)\n",
    "    b = 9\n",
    "    \n",
    "f2(3)"
   ]
  },
  {
   "cell_type": "markdown",
   "metadata": {},
   "source": [
    "To make `b` always a global variable. Use the keyword `global`."
   ]
  },
  {
   "cell_type": "code",
   "execution_count": null,
   "metadata": {},
   "outputs": [],
   "source": [
    "def f3(a):\n",
    "    global b\n",
    "    print(a)\n",
    "    print(b)\n",
    "    b = 9\n",
    "\n",
    "f3(3)\n",
    "print(b)\n",
    "b = 30\n",
    "f3(3)"
   ]
  },
  {
   "cell_type": "markdown",
   "metadata": {},
   "source": [
    "## Closures\n",
    "\n",
    "A closure is a function with an extended scope that encompasses nonglobal variables referenced in the body of the function but not defined there."
   ]
  },
  {
   "cell_type": "markdown",
   "metadata": {},
   "source": [
    "def make_averager():\n",
    "    series = []\n",
    "    count = 0\n",
    "    def averager(new_value):\n",
    "        series.append(new_value)\n",
    "        total = sum(series)\n",
    "        return total/len(series)\n",
    "    return averager"
   ]
  },
  {
   "cell_type": "code",
   "execution_count": 16,
   "metadata": {},
   "outputs": [
    {
     "name": "stdout",
     "output_type": "stream",
     "text": [
      "10.0 10.5 11.0\n"
     ]
    }
   ],
   "source": [
    "avg = make_averager()\n",
    "print(avg(10), avg(11), avg(12))"
   ]
  },
  {
   "cell_type": "code",
   "execution_count": 17,
   "metadata": {},
   "outputs": [
    {
     "name": "stdout",
     "output_type": "stream",
     "text": [
      "avg local vars: ('new_value', 'total')\n",
      "avg free vars: ('series',)\n",
      "avg closures: [10, 11, 12]\n"
     ]
    }
   ],
   "source": [
    "print('avg local vars:', avg.__code__.co_varnames)\n",
    "print('avg free vars:', avg.__code__.co_freevars)\n",
    "print('avg closures:', avg.__closure__[0].cell_contents)"
   ]
  },
  {
   "cell_type": "markdown",
   "metadata": {},
   "source": [
    "### The nonlocal Declaration\n",
    "\n",
    "A broken example"
   ]
  },
  {
   "cell_type": "code",
   "execution_count": 18,
   "metadata": {},
   "outputs": [],
   "source": [
    "def make_averager():\n",
    "    count = 0\n",
    "    total = 0\n",
    "    def averager(new_value):\n",
    "        count += 1\n",
    "        total += new_value\n",
    "        return total / count\n",
    "    return averager"
   ]
  },
  {
   "cell_type": "code",
   "execution_count": 19,
   "metadata": {},
   "outputs": [
    {
     "ename": "UnboundLocalError",
     "evalue": "local variable 'count' referenced before assignment",
     "output_type": "error",
     "traceback": [
      "\u001b[0;31m---------------------------------------------------------------------------\u001b[0m",
      "\u001b[0;31mUnboundLocalError\u001b[0m                         Traceback (most recent call last)",
      "\u001b[0;32m<ipython-input-19-b5a6bb6dc4cd>\u001b[0m in \u001b[0;36m<module>\u001b[0;34m\u001b[0m\n\u001b[1;32m      1\u001b[0m \u001b[0mavg\u001b[0m \u001b[0;34m=\u001b[0m \u001b[0mmake_averager\u001b[0m\u001b[0;34m(\u001b[0m\u001b[0;34m)\u001b[0m\u001b[0;34m\u001b[0m\u001b[0;34m\u001b[0m\u001b[0m\n\u001b[0;32m----> 2\u001b[0;31m \u001b[0mavg\u001b[0m\u001b[0;34m(\u001b[0m\u001b[0;36m10\u001b[0m\u001b[0;34m)\u001b[0m\u001b[0;34m\u001b[0m\u001b[0;34m\u001b[0m\u001b[0m\n\u001b[0m",
      "\u001b[0;32m<ipython-input-18-3f2ada1aa04d>\u001b[0m in \u001b[0;36maverager\u001b[0;34m(new_value)\u001b[0m\n\u001b[1;32m      3\u001b[0m     \u001b[0mtotal\u001b[0m \u001b[0;34m=\u001b[0m \u001b[0;36m0\u001b[0m\u001b[0;34m\u001b[0m\u001b[0;34m\u001b[0m\u001b[0m\n\u001b[1;32m      4\u001b[0m     \u001b[0;32mdef\u001b[0m \u001b[0maverager\u001b[0m\u001b[0;34m(\u001b[0m\u001b[0mnew_value\u001b[0m\u001b[0;34m)\u001b[0m\u001b[0;34m:\u001b[0m\u001b[0;34m\u001b[0m\u001b[0;34m\u001b[0m\u001b[0m\n\u001b[0;32m----> 5\u001b[0;31m         \u001b[0mcount\u001b[0m \u001b[0;34m+=\u001b[0m \u001b[0;36m1\u001b[0m\u001b[0;34m\u001b[0m\u001b[0;34m\u001b[0m\u001b[0m\n\u001b[0m\u001b[1;32m      6\u001b[0m         \u001b[0mtotal\u001b[0m \u001b[0;34m+=\u001b[0m \u001b[0mnew_value\u001b[0m\u001b[0;34m\u001b[0m\u001b[0;34m\u001b[0m\u001b[0m\n\u001b[1;32m      7\u001b[0m         \u001b[0;32mreturn\u001b[0m \u001b[0mtotal\u001b[0m \u001b[0;34m/\u001b[0m \u001b[0mcount\u001b[0m\u001b[0;34m\u001b[0m\u001b[0;34m\u001b[0m\u001b[0m\n",
      "\u001b[0;31mUnboundLocalError\u001b[0m: local variable 'count' referenced before assignment"
     ]
    }
   ],
   "source": [
    "avg = make_averager()\n",
    "avg(10)"
   ]
  },
  {
   "cell_type": "markdown",
   "metadata": {},
   "source": [
    "The reason is in line 5, `count` is a new variable instead of the free variable in the closure. Then the question is how to avoid immutable type variables be re-declared? `nonlocal`"
   ]
  },
  {
   "cell_type": "code",
   "execution_count": 20,
   "metadata": {},
   "outputs": [],
   "source": [
    "def make_averager():\n",
    "    count = 0\n",
    "    total = 0\n",
    "    def averager(new_value):\n",
    "        nonlocal count, total\n",
    "        count += 1\n",
    "        total += new_value\n",
    "        return total / count\n",
    "    return averager"
   ]
  },
  {
   "cell_type": "code",
   "execution_count": 21,
   "metadata": {},
   "outputs": [
    {
     "name": "stdout",
     "output_type": "stream",
     "text": [
      "10.0 10.5 11.0\n"
     ]
    }
   ],
   "source": [
    "avg = make_averager()\n",
    "print(avg(10), avg(11), avg(12))"
   ]
  },
  {
   "cell_type": "markdown",
   "metadata": {},
   "source": [
    "## Implementing a Simple Decorator\n",
    "\n",
    "prints the elapsed time, the arguments passed and the result of the call."
   ]
  },
  {
   "cell_type": "code",
   "execution_count": 25,
   "metadata": {},
   "outputs": [],
   "source": [
    "import time\n",
    "\n",
    "def clock(func):\n",
    "    def clocked(*args):\n",
    "        t0 = time.perf_counter()\n",
    "        result = func(*args)\n",
    "        elapsed = time.perf_counter() - t0\n",
    "        arg_str = ', '.join(repr(arg) for arg in args)\n",
    "        print('{:.8f}s {}({}) -> {}'.format(elapsed, func.__name__, arg_str, result))\n",
    "        return result\n",
    "    return clocked"
   ]
  },
  {
   "cell_type": "code",
   "execution_count": 26,
   "metadata": {},
   "outputs": [
    {
     "name": "stdout",
     "output_type": "stream",
     "text": [
      "**************************************** Calling snooze(.123)\n",
      "0.12308071s snooze(0.123) -> None\n",
      "**************************************** Calling factorial(6)\n",
      "0.00000026s factorial(1) -> 1\n",
      "0.00002216s factorial(2) -> 2\n",
      "0.00003887s factorial(3) -> 6\n",
      "0.00005429s factorial(4) -> 24\n",
      "0.00007078s factorial(5) -> 120\n",
      "0.00008778s factorial(6) -> 720\n",
      "6! = 720\n"
     ]
    }
   ],
   "source": [
    "@clock\n",
    "def snooze(seconds):\n",
    "    time.sleep(seconds)\n",
    "\n",
    "@clock\n",
    "def factorial(n):\n",
    "    return 1 if n < 2 else n * factorial(n-1)\n",
    "\n",
    "print('*' * 40, 'Calling snooze(.123)')\n",
    "snooze(.123)\n",
    "print('*' * 40, 'Calling factorial(6)')\n",
    "print('6! =', factorial(6))"
   ]
  },
  {
   "cell_type": "markdown",
   "metadata": {},
   "source": [
    "The shortcoming are\n",
    "1. it does not support keyword arguments\n",
    "1. `__name__` and `__doc__` are of the decorated function.\n",
    "\n",
    "Use `functools.wraps` to improve"
   ]
  },
  {
   "cell_type": "code",
   "execution_count": 29,
   "metadata": {},
   "outputs": [],
   "source": [
    "import functools\n",
    "\n",
    "def clock(func):\n",
    "    @functools.wraps(func)\n",
    "    def clocked(*args, **kwargs):\n",
    "        t0 = time.time()\n",
    "        result = func(*args, **kwargs)\n",
    "        elapsed = time.time() - t0\n",
    "        name = func.__name__\n",
    "        arg_lst = []\n",
    "        if args:\n",
    "            arg_lst.append(', '.join(repr(arg) for arg in args))\n",
    "        if kwargs:\n",
    "            pairs = ['%s=%r' % (k, w) for k, w in sorted(kwargs.items())]\n",
    "            arg_lst.append(', '.join(pairs))\n",
    "        arg_str = ', '.join(arg_lst)\n",
    "        print('[%0.8fs] %s(%s) -> %r ' % (elapsed, name, arg_str, result))\n",
    "        return result\n",
    "    return clocked        "
   ]
  },
  {
   "cell_type": "code",
   "execution_count": 30,
   "metadata": {},
   "outputs": [
    {
     "name": "stdout",
     "output_type": "stream",
     "text": [
      "**************************************** Calling snooze(.123)\n",
      "[0.12318730s] snooze(0.123) -> None \n",
      "**************************************** Calling factorial(n=6)\n",
      "[0.00000024s] factorial(1) -> 1 \n",
      "[0.00002456s] factorial(2) -> 2 \n",
      "[0.00004244s] factorial(3) -> 6 \n",
      "[0.00005817s] factorial(4) -> 24 \n",
      "[0.00007439s] factorial(5) -> 120 \n",
      "[0.00009203s] factorial(n=6) -> 720 \n",
      "6! = 720\n"
     ]
    }
   ],
   "source": [
    "@clock\n",
    "def snooze(seconds):\n",
    "    time.sleep(seconds)\n",
    "\n",
    "@clock\n",
    "def factorial(n):\n",
    "    return 1 if n < 2 else n * factorial(n-1)\n",
    "\n",
    "print('*' * 40, 'Calling snooze(.123)')\n",
    "snooze(.123)\n",
    "print('*' * 40, 'Calling factorial(n=6)')\n",
    "print('6! =', factorial(n=6))"
   ]
  },
  {
   "cell_type": "markdown",
   "metadata": {},
   "source": [
    "## Decorators in the Standard Library\n",
    "\n",
    "* Built-in decorators: `property`, `classmethod`, `staticmethod`.\n",
    "* functools `wraps, lru_cache, singledispatch`.\n",
    "\n",
    "### Memoization with functools.lru_cache\n",
    "\n",
    "Compute Fibonacci 6 without cache"
   ]
  },
  {
   "cell_type": "code",
   "execution_count": 32,
   "metadata": {},
   "outputs": [
    {
     "name": "stdout",
     "output_type": "stream",
     "text": [
      "[0.00000072s] fibonacci(0) -> 0 \n",
      "[0.00000167s] fibonacci(1) -> 1 \n",
      "[0.00089574s] fibonacci(2) -> 1 \n",
      "[0.00000048s] fibonacci(1) -> 1 \n",
      "[0.00000072s] fibonacci(0) -> 0 \n",
      "[0.00000072s] fibonacci(1) -> 1 \n",
      "[0.00008559s] fibonacci(2) -> 1 \n",
      "[0.00161481s] fibonacci(3) -> 2 \n",
      "[0.00289488s] fibonacci(4) -> 3 \n",
      "[0.00000072s] fibonacci(1) -> 1 \n",
      "[0.00000095s] fibonacci(0) -> 0 \n",
      "[0.00000072s] fibonacci(1) -> 1 \n",
      "[0.00059700s] fibonacci(2) -> 1 \n",
      "[0.00088811s] fibonacci(3) -> 2 \n",
      "[0.00000072s] fibonacci(0) -> 0 \n",
      "[0.00000095s] fibonacci(1) -> 1 \n",
      "[0.00008345s] fibonacci(2) -> 1 \n",
      "[0.00000048s] fibonacci(1) -> 1 \n",
      "[0.00000072s] fibonacci(0) -> 0 \n",
      "[0.00000119s] fibonacci(1) -> 1 \n",
      "[0.00008106s] fibonacci(2) -> 1 \n",
      "[0.00016236s] fibonacci(3) -> 2 \n",
      "[0.00032568s] fibonacci(4) -> 3 \n",
      "[0.00129509s] fibonacci(5) -> 5 \n",
      "[0.00449252s] fibonaaci(6) -> 8 \n",
      "8\n"
     ]
    }
   ],
   "source": [
    "@clock\n",
    "def fibonacci(n):\n",
    "    if n < 2:\n",
    "        return n\n",
    "    return fibonacci(n - 2) + fibonacci(n - 1)\n",
    "\n",
    "print(fibonaaci(6))"
   ]
  },
  {
   "cell_type": "markdown",
   "metadata": {},
   "source": [
    "Optimizaiton with an LRU cache"
   ]
  },
  {
   "cell_type": "code",
   "execution_count": 33,
   "metadata": {},
   "outputs": [
    {
     "name": "stdout",
     "output_type": "stream",
     "text": [
      "[0.00000119s] fibonacci(0) -> 0 \n",
      "[0.00000167s] fibonacci(1) -> 1 \n",
      "[0.00254393s] fibonacci(2) -> 1 \n",
      "[0.00000215s] fibonacci(3) -> 2 \n",
      "[0.00320792s] fibonacci(4) -> 3 \n",
      "[0.00000238s] fibonacci(5) -> 5 \n",
      "[0.00449109s] fibonaaci(6) -> 8 \n",
      "8\n"
     ]
    }
   ],
   "source": [
    "import functools\n",
    "\n",
    "@functools.lru_cache()\n",
    "@clock\n",
    "def fibonacci(n):\n",
    "    if n < 2:\n",
    "        return n\n",
    "    return fibonacci(n - 2) + fibonacci(n - 1)\n",
    "\n",
    "print(fibonaaci(6))"
   ]
  },
  {
   "cell_type": "markdown",
   "metadata": {},
   "source": [
    "`lru_cache` has two optional parameters `functools.lru_cache(maxsize=128, typed=False)`. See [the doc](https://docs.python.org/3/library/functools.html#functools.lru_cache)."
   ]
  },
  {
   "cell_type": "markdown",
   "metadata": {},
   "source": [
    "### Generic Functions with Single Dispatch\n",
    "\n",
    "Customize HTML otuput based on the type of the input argument"
   ]
  },
  {
   "cell_type": "code",
   "execution_count": 34,
   "metadata": {},
   "outputs": [],
   "source": [
    "from functools import singledispatch\n",
    "from collections import abc\n",
    "import numbers, html\n",
    "\n",
    "@singledispatch\n",
    "def htmlize(obj):\n",
    "    content = html.escape(repr(obj))\n",
    "    return '<pre>{}</pre>'.format(content)\n",
    "\n",
    "@htmlize.register(str)\n",
    "def _(text):\n",
    "    content = html.escape(text).replace('\\n', '<br>\\n')\n",
    "    return '<p>{}</p>'.format(content)\n",
    "\n",
    "@htmlize.register(numbers.Integral)\n",
    "def _(n):\n",
    "    return '<pre>{0} (0x{0:x})</pre>'.format(n)\n",
    "\n",
    "@htmlize.register(tuple)\n",
    "@htmlize.register(abc.MutableSequence)\n",
    "def _(seq):\n",
    "    inner = '</li>\\n<li>'.join(htmlize(item) for item in seq)\n",
    "    return '<ul>\\n<li>' + inner + '</li>\\n</ul>'"
   ]
  },
  {
   "cell_type": "code",
   "execution_count": 36,
   "metadata": {},
   "outputs": [
    {
     "name": "stdout",
     "output_type": "stream",
     "text": [
      "<pre>{1, 2, 3}</pre>\n",
      "<pre>&lt;built-in function abs&gt;</pre>\n",
      "<p>Heimlich &amp; Co.<br>\n",
      "- a game</p>\n",
      "<pre>42 (0x2a)</pre>\n",
      "<ul>\n",
      "<li><p>alpha</p></li>\n",
      "<li><pre>66 (0x42)</pre></li>\n",
      "<li><pre>{1, 2, 3}</pre></li>\n",
      "</ul>\n"
     ]
    }
   ],
   "source": [
    "print(htmlize({1,2,3}))\n",
    "print(htmlize(abs))\n",
    "print(htmlize('Heimlich & Co.\\n- a game'))\n",
    "print(htmlize(42))\n",
    "print(htmlize(['alpha', 66, {3, 2, 1}]))"
   ]
  },
  {
   "cell_type": "markdown",
   "metadata": {},
   "source": [
    "## Stacked Decorators\n",
    "```\n",
    "@d1\n",
    "@d2\n",
    "...\n",
    "@dn\n",
    "def f():\n",
    "  ...\n",
    "```\n",
    "\n",
    "Is the same as `f = d1(d2(...dn(f)))`"
   ]
  },
  {
   "cell_type": "markdown",
   "metadata": {},
   "source": [
    "## Parameterized Decorators"
   ]
  },
  {
   "cell_type": "code",
   "execution_count": 37,
   "metadata": {},
   "outputs": [],
   "source": [
    "import time\n",
    "\n",
    "DEFAULT_FMT = '[{elapsed:0.8f}s {name}({args}) -> {result}]'\n",
    "\n",
    "def clock(fmt=DEFAULT_FMT):\n",
    "    def decorate(func):\n",
    "        def clocked(*_args):\n",
    "            t0 = time.time()\n",
    "            _result = func(*_args)\n",
    "            elapsed = time.time() - t0\n",
    "            args = ', '.join(repr(arg) for arg in _args)\n",
    "            name = func.__name__\n",
    "            result = repr(_result)\n",
    "            print(fmt.format(**locals()))\n",
    "            return result\n",
    "        return clocked\n",
    "    return decorate"
   ]
  },
  {
   "cell_type": "code",
   "execution_count": 38,
   "metadata": {},
   "outputs": [
    {
     "name": "stdout",
     "output_type": "stream",
     "text": [
      "[0.12962103s snooze(0.123) -> None]\n",
      "[0.12318158s snooze(0.123) -> None]\n",
      "[0.12317586s snooze(0.123) -> None]\n"
     ]
    }
   ],
   "source": [
    "@clock()\n",
    "def snooze(seconds):\n",
    "    time.sleep(seconds)\n",
    "    \n",
    "for i in range(3):\n",
    "    snooze(.123)"
   ]
  },
  {
   "cell_type": "code",
   "execution_count": 39,
   "metadata": {},
   "outputs": [
    {
     "name": "stdout",
     "output_type": "stream",
     "text": [
      "snooze: 0.12317943572998047s\n",
      "snooze: 0.12316775321960449s\n",
      "snooze: 0.12314844131469727s\n"
     ]
    }
   ],
   "source": [
    "@clock('{name}: {elapsed}s')\n",
    "def snooze(seconds):\n",
    "    time.sleep(seconds)\n",
    "    \n",
    "for i in range(3):\n",
    "    snooze(.123)"
   ]
  },
  {
   "cell_type": "code",
   "execution_count": 40,
   "metadata": {},
   "outputs": [
    {
     "name": "stdout",
     "output_type": "stream",
     "text": [
      "snooze(0.123) dt=0.124s\n",
      "snooze(0.123) dt=0.123s\n",
      "snooze(0.123) dt=0.123s\n"
     ]
    }
   ],
   "source": [
    "@clock('{name}({args}) dt={elapsed:0.3f}s')\n",
    "def snooze(seconds):\n",
    "    time.sleep(seconds)\n",
    "    \n",
    "for i in range(3):\n",
    "    snooze(.123)"
   ]
  }
 ],
 "metadata": {
  "kernelspec": {
   "display_name": "Python 3",
   "language": "python",
   "name": "python3"
  },
  "language_info": {
   "codemirror_mode": {
    "name": "ipython",
    "version": 3
   },
   "file_extension": ".py",
   "mimetype": "text/x-python",
   "name": "python",
   "nbconvert_exporter": "python",
   "pygments_lexer": "ipython3",
   "version": "3.7.3"
  }
 },
 "nbformat": 4,
 "nbformat_minor": 4
}
