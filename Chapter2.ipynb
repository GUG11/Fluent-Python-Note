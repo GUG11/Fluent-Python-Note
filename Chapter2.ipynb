{
 "cells": [
  {
   "cell_type": "markdown",
   "metadata": {},
   "source": [
    "# Chapter 2 An Array of Sequences"
   ]
  },
  {
   "cell_type": "code",
   "execution_count": 100,
   "metadata": {},
   "outputs": [],
   "source": [
    "import pprint\n",
    "from typing import Callable, List\n",
    "import random\n",
    "pp = pprint.PrettyPrinter()"
   ]
  },
  {
   "cell_type": "markdown",
   "metadata": {},
   "source": [
    "## Overview of Built-in Sequences\n",
    "\n",
    "classified by data type\n",
    "\n",
    "* _Container sequences_: `list`, `tuple` and `collections.deque` can hold items of different types.\n",
    "* _Flat sequences_: `str`, `bytes`, `bytearray`, `memoryview` and `array.array` hold items of one type.\n",
    "\n",
    "grouped by mutability\n",
    "* _Mutable sequences_: `list`, `bytearray`, `array.array`, `collections.deque` and `memoryview`\n",
    "* _Immutable sequences_: `tuple`, `str` and `bytes`"
   ]
  },
  {
   "cell_type": "markdown",
   "metadata": {},
   "source": [
    "## List Comprehensions and Generator Expressions\n",
    "more readable\n",
    "\n",
    "### List Comprehensions (ListComp)"
   ]
  },
  {
   "cell_type": "code",
   "execution_count": 3,
   "metadata": {},
   "outputs": [
    {
     "name": "stdout",
     "output_type": "stream",
     "text": [
      "[36, 162, 163, 165, 8364, 164]\n"
     ]
    }
   ],
   "source": [
    "# Example 2.1 Build a list of Unicode codepoints from a string\n",
    "\n",
    "symbols = '$¢£¥€¤'\n",
    "codes = []\n",
    "for symbol in symbols:\n",
    "    codes.append(ord(symbol))\n",
    "\n",
    "print(codes)"
   ]
  },
  {
   "cell_type": "code",
   "execution_count": 4,
   "metadata": {},
   "outputs": [
    {
     "name": "stdout",
     "output_type": "stream",
     "text": [
      "[36, 162, 163, 165, 8364, 164]\n"
     ]
    }
   ],
   "source": [
    "# Example 2.2 build a list of Unicode codepoints using ListComp\n",
    "codes = [ord(symbol) for symbol in symbols]\n",
    "print(codes)"
   ]
  },
  {
   "cell_type": "code",
   "execution_count": 6,
   "metadata": {},
   "outputs": [
    {
     "name": "stdout",
     "output_type": "stream",
     "text": [
      "[162, 163, 165, 8364, 164]\n",
      "[162, 163, 165, 8364, 164]\n"
     ]
    }
   ],
   "source": [
    "# Example 2.3 listcomp vs map/filter\n",
    "beyond_ascii = [ord(s) for s in symbols if ord(s) > 127]\n",
    "print(beyond_ascii)\n",
    "\n",
    "beyond_ascii = list(filter(lambda c: c > 127, map(ord, symbols)))\n",
    "print(beyond_ascii)"
   ]
  },
  {
   "cell_type": "markdown",
   "metadata": {},
   "source": [
    "### Cartesian Product"
   ]
  },
  {
   "cell_type": "code",
   "execution_count": 12,
   "metadata": {},
   "outputs": [
    {
     "name": "stdout",
     "output_type": "stream",
     "text": [
      "[('black', 'S'),\n",
      " ('black', 'M'),\n",
      " ('black', 'L'),\n",
      " ('white', 'S'),\n",
      " ('white', 'M'),\n",
      " ('white', 'L')]\n"
     ]
    }
   ],
   "source": [
    "colors = ['black', 'white']\n",
    "sizes = ['S', 'M', 'L']\n",
    "tshirts = [(color, size) for color in colors \n",
    "                         for size in sizes]\n",
    "pp.pprint(tshirts)"
   ]
  },
  {
   "cell_type": "code",
   "execution_count": 14,
   "metadata": {},
   "outputs": [
    {
     "name": "stdout",
     "output_type": "stream",
     "text": [
      "[('black', 'S'),\n",
      " ('white', 'S'),\n",
      " ('black', 'M'),\n",
      " ('white', 'M'),\n",
      " ('black', 'L'),\n",
      " ('white', 'L')]\n"
     ]
    }
   ],
   "source": [
    "tshirts = [(color, size) for size in sizes\n",
    "                         for color in colors]\n",
    "pp.pprint(tshirts)"
   ]
  },
  {
   "cell_type": "markdown",
   "metadata": {},
   "source": [
    "### Generator Expressions\n",
    "\n",
    "Genexps use the same syntax as listcomps, but are enclosed in parentheses. The benefit is memory efficiency (not storing the whole list)"
   ]
  },
  {
   "cell_type": "code",
   "execution_count": 15,
   "metadata": {},
   "outputs": [
    {
     "data": {
      "text/plain": [
       "(36, 162, 163, 165, 8364, 164)"
      ]
     },
     "execution_count": 15,
     "metadata": {},
     "output_type": "execute_result"
    }
   ],
   "source": [
    "tuple(ord(symbol) for symbol in symbols)"
   ]
  },
  {
   "cell_type": "code",
   "execution_count": 16,
   "metadata": {},
   "outputs": [
    {
     "data": {
      "text/plain": [
       "array('I', [36, 162, 163, 165, 8364, 164])"
      ]
     },
     "execution_count": 16,
     "metadata": {},
     "output_type": "execute_result"
    }
   ],
   "source": [
    "import array\n",
    "array.array('I', (ord(symbol) for symbol in symbols))"
   ]
  },
  {
   "cell_type": "code",
   "execution_count": 17,
   "metadata": {},
   "outputs": [
    {
     "name": "stdout",
     "output_type": "stream",
     "text": [
      "black, S\n",
      "black, M\n",
      "black, L\n",
      "white, S\n",
      "white, M\n",
      "white, L\n"
     ]
    }
   ],
   "source": [
    "# Cartesian product in a genexp\n",
    "for tshirt in (f'{c}, {s}' for c in colors for s in sizes):\n",
    "    print(tshirt)\n"
   ]
  },
  {
   "cell_type": "markdown",
   "metadata": {},
   "source": [
    "## Tuples Are Not Just Immutable Lists\n",
    "\n",
    "### Tuples as Records\n",
    "Each item in the tuple holds the data for one field and the position of the item gives its meaning."
   ]
  },
  {
   "cell_type": "code",
   "execution_count": 20,
   "metadata": {},
   "outputs": [
    {
     "name": "stdout",
     "output_type": "stream",
     "text": [
      "BRA/CE342567\n",
      "ESP/XDA205856\n",
      "USA/31195855\n",
      "USA\n",
      "BRA\n",
      "ESP\n"
     ]
    }
   ],
   "source": [
    "lax_coordinates = (33.9425, -118.408056)\n",
    "city, year, pop, chg, area = ('Tokyo', 2003, 32450, 0.66, 8014)\n",
    "traverler_ids = [('USA', '31195855'), ('BRA', 'CE342567'), ('ESP', 'XDA205856')]\n",
    "for passport in sorted(traverler_ids):\n",
    "    print('{}/{}'.format(passport[0], passport[1]))\n",
    "for country, _ in traverler_ids:\n",
    "    print(country)"
   ]
  },
  {
   "cell_type": "markdown",
   "metadata": {},
   "source": [
    "### Tuple Unpacking\n",
    "\n",
    "* parallel assignemnt: assign an iterable to a tuple of variables\n",
    "* prefix with a star"
   ]
  },
  {
   "cell_type": "code",
   "execution_count": 23,
   "metadata": {},
   "outputs": [
    {
     "name": "stdout",
     "output_type": "stream",
     "text": [
      "33.9425, -118.408056\n"
     ]
    },
    {
     "data": {
      "text/plain": [
       "(2, 4)"
      ]
     },
     "execution_count": 23,
     "metadata": {},
     "output_type": "execute_result"
    }
   ],
   "source": [
    "latitute, longitude = lax_coordinates # parallel assignment\n",
    "print(f'{latitute}, {longitude}')\n",
    "# prefix with a star\n",
    "t = (20, 8)\n",
    "divmod(*t)"
   ]
  },
  {
   "cell_type": "code",
   "execution_count": 24,
   "metadata": {},
   "outputs": [
    {
     "name": "stdout",
     "output_type": "stream",
     "text": [
      "tmp\n"
     ]
    }
   ],
   "source": [
    "# return multiple values in a function\n",
    "import os\n",
    "_, filname = os.path.split('/tmp/tmp')\n",
    "print(filname)"
   ]
  },
  {
   "cell_type": "markdown",
   "metadata": {},
   "source": [
    "Use * to grab excessitems"
   ]
  },
  {
   "cell_type": "code",
   "execution_count": 25,
   "metadata": {},
   "outputs": [
    {
     "name": "stdout",
     "output_type": "stream",
     "text": [
      "[2, 3, 4]\n",
      "[1, 2]\n"
     ]
    }
   ],
   "source": [
    "a, b, *rest = range(5)\n",
    "print(rest)\n",
    "\n",
    "a, *body, c, d = range(5)\n",
    "print(body)"
   ]
  },
  {
   "cell_type": "markdown",
   "metadata": {},
   "source": [
    "### Nested Tuple Unpacking\n",
    "\n",
    "Make the expression matches the nesting structure."
   ]
  },
  {
   "cell_type": "code",
   "execution_count": 27,
   "metadata": {},
   "outputs": [
    {
     "name": "stdout",
     "output_type": "stream",
     "text": [
      "                |   lat.    |   long.  \n",
      "Mexico City     |   19.4333 |  -99.1333\n",
      "New York-Newark |   40.8086 |  -74.0204\n",
      "Sao Paulo       |  -23.5478 |  -46.6358\n"
     ]
    }
   ],
   "source": [
    "metro_areas = [\n",
    "    ('Tokyo', 'JP', 36.933, (35.689722, 139.691667)),\n",
    "    ('Delhi NCR', 'IN', 21.935, (28.613889, 77.208889)),\n",
    "    ('Mexico City', 'MX', 20.142, (19.433333, -99.133333)),\n",
    "    ('New York-Newark', 'US', 20.104, (40.808611, -74.020386)),\n",
    "    ('Sao Paulo', 'BR', 19.649, (-23.547778, -46.635833)),\n",
    "]\n",
    "\n",
    "print('{:15} | {:^9} | {:^9}'.format('', 'lat.', 'long.'))\n",
    "fmt = '{:15} | {:9.4f} | {:9.4f}'\n",
    "for name, _, _, (lat, lon) in metro_areas:\n",
    "    if lon <= 0:\n",
    "        print(fmt.format(name, lat, lon))"
   ]
  },
  {
   "cell_type": "markdown",
   "metadata": {},
   "source": [
    "## Named Tuples\n",
    "\n",
    "`collections.namedtuple` produces subclasses of `tuple` with field names and a class name."
   ]
  },
  {
   "cell_type": "code",
   "execution_count": 30,
   "metadata": {},
   "outputs": [
    {
     "name": "stdout",
     "output_type": "stream",
     "text": [
      "City(name='Tokyo', country='JP', population=36.933, coordinates=(35.689722, 139.691667))\n",
      "36.933\n",
      "(35.689722, 139.691667)\n"
     ]
    }
   ],
   "source": [
    "from collections import namedtuple\n",
    "City = namedtuple('City', 'name country population coordinates')\n",
    "tokyo = City('Tokyo', 'JP', 36.933, (35.689722, 139.691667))\n",
    "print(tokyo)\n",
    "print(tokyo.population)\n",
    "print(tokyo.coordinates)"
   ]
  },
  {
   "cell_type": "markdown",
   "metadata": {},
   "source": [
    "Attributes in a named tuple. \n",
    "* `_fields`: a tuple of field names in the class.\n",
    "* `_make(iterable)`: create a named tuple from an iterable\n",
    "* `_asdict()`: return a `collections.OrderedDict`"
   ]
  },
  {
   "cell_type": "code",
   "execution_count": 34,
   "metadata": {},
   "outputs": [
    {
     "name": "stdout",
     "output_type": "stream",
     "text": [
      "('name', 'country', 'population', 'coordinates')\n",
      "City(name='Delhi NCR', country='IN', population=21.935, coordinates=LatLong(lat=28.613889, long=77.208889))\n",
      "OrderedDict([('name', 'Delhi NCR'), ('country', 'IN'), ('population', 21.935), ('coordinates', LatLong(lat=28.613889, long=77.208889))])\n",
      "name: Delhi NCR\n",
      "country: IN\n",
      "population: 21.935\n",
      "coordinates: LatLong(lat=28.613889, long=77.208889)\n"
     ]
    }
   ],
   "source": [
    "print(City._fields)\n",
    "LatLong = namedtuple('LatLong', 'lat long')\n",
    "delhi_data = ('Delhi NCR', 'IN', 21.935, LatLong(28.613889, 77.208889))\n",
    "delhi = City._make(delhi_data)\n",
    "print(delhi)\n",
    "print(delhi._asdict())\n",
    "for key, value in delhi._asdict().items():\n",
    "    print(key + ':', value)\n"
   ]
  },
  {
   "cell_type": "markdown",
   "metadata": {},
   "source": [
    "### Tuples as Immutable Lists\n",
    "`tuple` supports all list methods that do not involve adding or removing items except `__reversed__`."
   ]
  },
  {
   "cell_type": "code",
   "execution_count": 54,
   "metadata": {},
   "outputs": [
    {
     "name": "stdout",
     "output_type": "stream",
     "text": [
      "(1, 2, 3, 3) (1, 2, 3, 3)\n",
      "True True\n",
      "1\n",
      "3\n",
      "1\n",
      "3\n",
      "(1, 2, 3, 1, 2, 3, 1, 2, 3)\n",
      "(1, 2, 3, 1, 2, 3, 1, 2, 3)\n"
     ]
    }
   ],
   "source": [
    "s = (1, 2, 3)\n",
    "s2 = (3,)\n",
    "print(s + s2, s.__add__(s2))\n",
    "\n",
    "print(2 in s, s.__contains__(2))\n",
    "\n",
    "print(s.count(1))\n",
    "print(s[2])\n",
    "print(s.index(2))\n",
    "print(len(s))\n",
    "print(s * 3)\n",
    "print(3 * s)"
   ]
  },
  {
   "cell_type": "markdown",
   "metadata": {},
   "source": [
    "## Slicing\n",
    "\n",
    "### Assigning to Slices"
   ]
  },
  {
   "cell_type": "code",
   "execution_count": 58,
   "metadata": {},
   "outputs": [],
   "source": [
    "l = list(range(15))\n",
    "print(l)"
   ]
  },
  {
   "cell_type": "markdown",
   "metadata": {},
   "source": [
    "The length of the assigned list is less than the slice works only when the slice is continouous."
   ]
  },
  {
   "cell_type": "code",
   "execution_count": 59,
   "metadata": {},
   "outputs": [
    {
     "name": "stdout",
     "output_type": "stream",
     "text": [
      "after l[2:5] = [20, 30]. [0, 1, 20, 30, 6, 7, 8, 9, 10, 11, 12, 13, 14]\n"
     ]
    }
   ],
   "source": [
    "l[2:5] = [20, 30]\n",
    "print('after l[2:5] = [20, 30].', l)"
   ]
  },
  {
   "cell_type": "code",
   "execution_count": 62,
   "metadata": {},
   "outputs": [
    {
     "ename": "ValueError",
     "evalue": "attempt to assign sequence of size 2 to extended slice of size 5",
     "output_type": "error",
     "traceback": [
      "\u001b[0;31m---------------------------------------------------------------------------\u001b[0m",
      "\u001b[0;31mValueError\u001b[0m                                Traceback (most recent call last)",
      "\u001b[0;32m<ipython-input-62-d2ed59f977f1>\u001b[0m in \u001b[0;36m<module>\u001b[0;34m\u001b[0m\n\u001b[1;32m      1\u001b[0m \u001b[0;31m# not work\u001b[0m\u001b[0;34m\u001b[0m\u001b[0;34m\u001b[0m\u001b[0;34m\u001b[0m\u001b[0m\n\u001b[0;32m----> 2\u001b[0;31m \u001b[0ml\u001b[0m\u001b[0;34m[\u001b[0m\u001b[0;36m3\u001b[0m\u001b[0;34m:\u001b[0m\u001b[0;34m:\u001b[0m\u001b[0;36m2\u001b[0m\u001b[0;34m]\u001b[0m \u001b[0;34m=\u001b[0m \u001b[0;34m[\u001b[0m\u001b[0;36m11\u001b[0m\u001b[0;34m,\u001b[0m \u001b[0;36m22\u001b[0m\u001b[0;34m]\u001b[0m\u001b[0;34m\u001b[0m\u001b[0;34m\u001b[0m\u001b[0m\n\u001b[0m",
      "\u001b[0;31mValueError\u001b[0m: attempt to assign sequence of size 2 to extended slice of size 5"
     ]
    }
   ],
   "source": [
    "# not work\n",
    "l[3::2] = [11, 22]"
   ]
  },
  {
   "cell_type": "code",
   "execution_count": 63,
   "metadata": {},
   "outputs": [
    {
     "ename": "ValueError",
     "evalue": "attempt to assign sequence of size 4 to extended slice of size 1",
     "output_type": "error",
     "traceback": [
      "\u001b[0;31m---------------------------------------------------------------------------\u001b[0m",
      "\u001b[0;31mValueError\u001b[0m                                Traceback (most recent call last)",
      "\u001b[0;32m<ipython-input-63-37e235ed05a7>\u001b[0m in \u001b[0;36m<module>\u001b[0;34m\u001b[0m\n\u001b[0;32m----> 1\u001b[0;31m \u001b[0ml\u001b[0m\u001b[0;34m[\u001b[0m\u001b[0;36m3\u001b[0m\u001b[0;34m:\u001b[0m\u001b[0;34m:\u001b[0m\u001b[0;36m10\u001b[0m\u001b[0;34m]\u001b[0m \u001b[0;34m=\u001b[0m \u001b[0;34m[\u001b[0m\u001b[0;36m11\u001b[0m\u001b[0;34m,\u001b[0m \u001b[0;36m22\u001b[0m\u001b[0;34m,\u001b[0m \u001b[0;36m33\u001b[0m\u001b[0;34m,\u001b[0m \u001b[0;36m44\u001b[0m\u001b[0;34m]\u001b[0m\u001b[0;34m\u001b[0m\u001b[0;34m\u001b[0m\u001b[0m\n\u001b[0m",
      "\u001b[0;31mValueError\u001b[0m: attempt to assign sequence of size 4 to extended slice of size 1"
     ]
    }
   ],
   "source": [
    "# not work\n",
    "l[3::10] = [11, 22, 33, 44]"
   ]
  },
  {
   "cell_type": "code",
   "execution_count": 65,
   "metadata": {},
   "outputs": [
    {
     "name": "stdout",
     "output_type": "stream",
     "text": [
      "after l[3::10] = [11]. [0, 1, 20, 11, 6, 7, 8, 9, 10, 11, 12, 13, 14]\n"
     ]
    }
   ],
   "source": [
    "l[3::10] = [11]\n",
    "print('after l[3::10] = [11].', l)"
   ]
  },
  {
   "cell_type": "code",
   "execution_count": 66,
   "metadata": {},
   "outputs": [
    {
     "name": "stdout",
     "output_type": "stream",
     "text": [
      "del l[5:7]. [0, 1, 20, 11, 6, 9, 10, 11, 12, 13, 14]\n"
     ]
    }
   ],
   "source": [
    "del l[5:7]\n",
    "print('del l[5:7].', l)"
   ]
  },
  {
   "cell_type": "markdown",
   "metadata": {},
   "source": [
    "## Using + and * with Sequences\n",
    "\n",
    "* `*`: concantenate multiple copies of the same sequence\n",
    "* `+`: concantenate two sequences\n",
    "\n",
    "`+` and `*` creates a new object instead of changing the operands."
   ]
  },
  {
   "cell_type": "code",
   "execution_count": 70,
   "metadata": {},
   "outputs": [
    {
     "name": "stdout",
     "output_type": "stream",
     "text": [
      "[1, 2, 3, 1, 2, 3, 1, 2, 3, 1, 2, 3, 1, 2, 3]\n",
      "[1, 2, 3, 1, 2, 3]\n",
      "abcdabcdabcdabcdabcd\n"
     ]
    }
   ],
   "source": [
    "l = list(range(1, 4))\n",
    "print(l * 5)\n",
    "print(l + l)\n",
    "print(5 * 'abcd')"
   ]
  },
  {
   "cell_type": "markdown",
   "metadata": {},
   "source": [
    "### Building Lists of Lists\n",
    "\n",
    "The key point is do not apply `*` on lists of lists, because `*` only copies the reference to the list."
   ]
  },
  {
   "cell_type": "code",
   "execution_count": 71,
   "metadata": {},
   "outputs": [
    {
     "name": "stdout",
     "output_type": "stream",
     "text": [
      "[['_', '_', '_'], ['_', '_', '_'], ['_', '_', '_']]\n",
      "[['_', '_', '_'], ['_', '_', 'X'], ['_', '_', '_']]\n"
     ]
    }
   ],
   "source": [
    "# correct\n",
    "board = [['_'] * 3 for i in range(3)]\n",
    "print(board)\n",
    "board[1][2] = 'X'\n",
    "print(board)"
   ]
  },
  {
   "cell_type": "code",
   "execution_count": 72,
   "metadata": {},
   "outputs": [
    {
     "name": "stdout",
     "output_type": "stream",
     "text": [
      "[['_', '_', '_'], ['_', '_', '_'], ['_', '_', '_']]\n"
     ]
    },
    {
     "data": {
      "text/plain": [
       "[['_', '_', '0'], ['_', '_', '0'], ['_', '_', '0']]"
      ]
     },
     "execution_count": 72,
     "metadata": {},
     "output_type": "execute_result"
    }
   ],
   "source": [
    "# wrong\n",
    "wired_board = [['_'] * 3] * 3\n",
    "print(wired_board)\n",
    "wired_board[1][2] = '0'\n",
    "wired_board"
   ]
  },
  {
   "cell_type": "markdown",
   "metadata": {},
   "source": [
    "Use `is` to check `wired_board`'s all elements refer to the same list."
   ]
  },
  {
   "cell_type": "code",
   "execution_count": 74,
   "metadata": {},
   "outputs": [
    {
     "name": "stdout",
     "output_type": "stream",
     "text": [
      "True\n",
      "False\n"
     ]
    }
   ],
   "source": [
    "print(wired_board[0] is wired_board[1])\n",
    "print(board[0] is board[1])"
   ]
  },
  {
   "cell_type": "markdown",
   "metadata": {},
   "source": [
    "### Agumented Assignemnt with Sequences\n",
    "\n",
    "`+=` and `*=` behave depending on the first operand. Take `+=` for example `a += b`.\n",
    "\n",
    "1. If `__iadd__` is implement, do in-place update.\n",
    "1. Otherwise, `a = a + b`.\n",
    "\n",
    "The values are the same for the two cases but 2. changes the id of `a`."
   ]
  },
  {
   "cell_type": "code",
   "execution_count": 78,
   "metadata": {},
   "outputs": [
    {
     "name": "stdout",
     "output_type": "stream",
     "text": [
      "id(a) = 139986533111688, a = [1, 2, 3]\n",
      "id(a) = 139986533111688, a = [1, 2, 3, 4, 5]\n",
      "id(a2) = 139986537230056, a2 = (1, 2, 3)\n",
      "id(a2) = 139987029102000, a2 = (1, 2, 3, 4, 5)\n"
     ]
    }
   ],
   "source": [
    "a = [1, 2, 3]\n",
    "b = [4, 5]\n",
    "print(f'id(a) = {id(a)}, a = {a}')\n",
    "a += b\n",
    "print(f'id(a) = {id(a)}, a = {a}')\n",
    "\n",
    "a2 = (1, 2, 3)\n",
    "b2 = (4, 5)\n",
    "print(f'id(a2) = {id(a2)}, a2 = {a2}')\n",
    "a2 += b2\n",
    "print(f'id(a2) = {id(a2)}, a2 = {a2}')\n"
   ]
  },
  {
   "cell_type": "markdown",
   "metadata": {},
   "source": [
    "### A += Assignment Puzzler"
   ]
  },
  {
   "cell_type": "code",
   "execution_count": 81,
   "metadata": {},
   "outputs": [
    {
     "name": "stdout",
     "output_type": "stream",
     "text": [
      "get error:  'tuple' object does not support item assignment\n",
      "t = (1, 2, [30, 40, 50, 60])\n"
     ]
    }
   ],
   "source": [
    "t = (1, 2, [30, 40])\n",
    "try:\n",
    "    t[2] += [50, 60]\n",
    "except TypeError as err:\n",
    "    print('get error: ', err)\n",
    "print(f't = {t}')"
   ]
  },
  {
   "cell_type": "markdown",
   "metadata": {},
   "source": [
    "Use [Python Visualizer](http://www.pythontutor.com/visualize.html#code=t%20%3D%20%281,%202,%20%5B30,%2040%5D%29%0At%5B2%5D%20%2B%3D%20%5B50,%2060%5D&cumulative=false&curInstr=2&heapPrimitives=nevernest&mode=display&origin=opt-frontend.js&py=3&rawInputLstJSON=%5B%5D&textReferences=false) to emulate the code.\n",
    "\n",
    "1. First do in-place add on the list `t[2]`.\n",
    "1. Assign the new list to `t[2]`. As `t` is immutable, the assignment throws an exception.\n",
    "\n",
    "Check the detail in bytecode."
   ]
  },
  {
   "cell_type": "code",
   "execution_count": 82,
   "metadata": {},
   "outputs": [
    {
     "name": "stdout",
     "output_type": "stream",
     "text": [
      "  1           0 LOAD_NAME                0 (t)\n",
      "              2 LOAD_CONST               0 (2)\n",
      "              4 DUP_TOP_TWO\n",
      "              6 BINARY_SUBSCR\n",
      "              8 LOAD_CONST               1 (50)\n",
      "             10 LOAD_CONST               2 (60)\n",
      "             12 BUILD_LIST               2\n",
      "             14 INPLACE_ADD\n",
      "             16 ROT_THREE\n",
      "             18 STORE_SUBSCR\n",
      "             20 LOAD_CONST               3 (None)\n",
      "             22 RETURN_VALUE\n"
     ]
    }
   ],
   "source": [
    "import dis\n",
    "dis.dis('t[2] += [50, 60]')"
   ]
  },
  {
   "cell_type": "markdown",
   "metadata": {},
   "source": [
    "1. Putting mutable items in tuples is not a good idea.\n",
    "1. Augmented assignment is not an atomic operation."
   ]
  },
  {
   "cell_type": "markdown",
   "metadata": {},
   "source": [
    "## list.sort and sorted\n",
    "\n",
    "* `list.sort`: sort the list in-place and return `None`.\n",
    "* `sorted`: return a sorted list without modifying the input list.\n",
    "\n",
    "Both take two optional arguments:\n",
    "* `reverse`: `True` for descending order and `False` for ascending order.\n",
    "* `key`: a comparable object for the `<` function."
   ]
  },
  {
   "cell_type": "code",
   "execution_count": 87,
   "metadata": {},
   "outputs": [
    {
     "name": "stdout",
     "output_type": "stream",
     "text": [
      "sorted(fruits) ['apple', 'banana', 'grape', 'raspberry']\n",
      "sorted(fruits, reverse=True) ['raspberry', 'grape', 'banana', 'apple']\n",
      "sorted(fruits, key=len) ['grape', 'apple', 'banana', 'raspberry']\n",
      "sorted(fruits, key=len, reverse=True) ['raspberry', 'banana', 'grape', 'apple']\n",
      "fruits ['grape', 'raspberry', 'apple', 'banana']\n",
      "fruits.sort ['apple', 'banana', 'grape', 'raspberry']\n"
     ]
    }
   ],
   "source": [
    "fruits = ['grape', 'raspberry', 'apple', 'banana']\n",
    "\n",
    "print('sorted(fruits)', sorted(fruits))\n",
    "\n",
    "print('sorted(fruits, reverse=True)', sorted(fruits, reverse=True))\n",
    "print('sorted(fruits, key=len)', sorted(fruits, key=len))\n",
    "print('sorted(fruits, key=len, reverse=True)', sorted(fruits, key=len, reverse=True))\n",
    "print('fruits', fruits)\n",
    "fruits.sort()\n",
    "print('fruits.sort', fruits)"
   ]
  },
  {
   "cell_type": "markdown",
   "metadata": {},
   "source": [
    "## Managing Ordered Sequences with bisect"
   ]
  },
  {
   "cell_type": "code",
   "execution_count": 95,
   "metadata": {},
   "outputs": [],
   "source": [
    "import bisect, sys\n",
    "\n",
    "HAYSTACK = [1, 4, 5, 6, 8, 12, 15, 20, 21, 23, 23, 26, 29, 30]\n",
    "NEEDLES = [0, 1, 2, 5, 8, 10, 22, 23, 29, 30, 31]\n",
    "\n",
    "ROW_FMT = '{0:2d} @ {1:2d}    {2}{0:<2d}'\n",
    "\n",
    "def demo(bisect_fn: Callable[[List[int], int], int]) -> None:\n",
    "    print('DEMO:', bisect_fn.__name__)\n",
    "    print('haystack ->', ' '.join('{:2}'.format(n) for n in HAYSTACK))\n",
    "    for needle in reversed(NEEDLES):\n",
    "        position = bisect_fn(HAYSTACK, needle)\n",
    "        offset = position * '  |'\n",
    "        print(ROW_FMT.format(needle, position, offset))"
   ]
  },
  {
   "cell_type": "code",
   "execution_count": 96,
   "metadata": {},
   "outputs": [
    {
     "name": "stdout",
     "output_type": "stream",
     "text": [
      "DEMO: bisect_left\n",
      "haystack ->  1  4  5  6  8 12 15 20 21 23 23 26 29 30\n",
      "31 @ 14      |  |  |  |  |  |  |  |  |  |  |  |  |  |31\n",
      "30 @ 13      |  |  |  |  |  |  |  |  |  |  |  |  |30\n",
      "29 @ 12      |  |  |  |  |  |  |  |  |  |  |  |29\n",
      "23 @  9      |  |  |  |  |  |  |  |  |23\n",
      "22 @  9      |  |  |  |  |  |  |  |  |22\n",
      "10 @  5      |  |  |  |  |10\n",
      " 8 @  4      |  |  |  |8 \n",
      " 5 @  2      |  |5 \n",
      " 2 @  1      |2 \n",
      " 1 @  0    1 \n",
      " 0 @  0    0 \n"
     ]
    }
   ],
   "source": [
    "demo(bisect.bisect_left)"
   ]
  },
  {
   "cell_type": "code",
   "execution_count": 97,
   "metadata": {},
   "outputs": [
    {
     "name": "stdout",
     "output_type": "stream",
     "text": [
      "DEMO: bisect_right\n",
      "haystack ->  1  4  5  6  8 12 15 20 21 23 23 26 29 30\n",
      "31 @ 14      |  |  |  |  |  |  |  |  |  |  |  |  |  |31\n",
      "30 @ 14      |  |  |  |  |  |  |  |  |  |  |  |  |  |30\n",
      "29 @ 13      |  |  |  |  |  |  |  |  |  |  |  |  |29\n",
      "23 @ 11      |  |  |  |  |  |  |  |  |  |  |23\n",
      "22 @  9      |  |  |  |  |  |  |  |  |22\n",
      "10 @  5      |  |  |  |  |10\n",
      " 8 @  5      |  |  |  |  |8 \n",
      " 5 @  3      |  |  |5 \n",
      " 2 @  1      |2 \n",
      " 1 @  1      |1 \n",
      " 0 @  0    0 \n"
     ]
    }
   ],
   "source": [
    "demo(bisect.bisect)"
   ]
  },
  {
   "cell_type": "markdown",
   "metadata": {},
   "source": [
    "An application of `bisect` is table lookups."
   ]
  },
  {
   "cell_type": "code",
   "execution_count": 98,
   "metadata": {},
   "outputs": [
    {
     "name": "stdout",
     "output_type": "stream",
     "text": [
      "['F', 'A', 'C', 'C', 'B', 'A', 'A']\n"
     ]
    }
   ],
   "source": [
    "def grade(score: int, breakpoints: List[int]= [60, 70, 80, 90], grades='FDCBA') -> str:\n",
    "    i = bisect.bisect(breakpoints, score)\n",
    "    return grades[i]\n",
    "\n",
    "print([grade(score) for score in [33, 99, 77, 70, 89, 90, 100]])"
   ]
  },
  {
   "cell_type": "markdown",
   "metadata": {},
   "source": [
    "### Inserting with bisect.insort"
   ]
  },
  {
   "cell_type": "code",
   "execution_count": 101,
   "metadata": {},
   "outputs": [
    {
     "name": "stdout",
     "output_type": "stream",
     "text": [
      "10 -> [10]\n",
      " 0 -> [0, 10]\n",
      " 6 -> [0, 6, 10]\n",
      " 8 -> [0, 6, 8, 10]\n",
      " 7 -> [0, 6, 7, 8, 10]\n",
      " 2 -> [0, 2, 6, 7, 8, 10]\n",
      "10 -> [0, 2, 6, 7, 8, 10, 10]\n"
     ]
    }
   ],
   "source": [
    "SIZE = 7\n",
    "random.seed(1729)\n",
    "\n",
    "my_list = []\n",
    "for i in range(SIZE):\n",
    "    new_item = random.randrange(SIZE*2)\n",
    "    bisect.insort(my_list, new_item)\n",
    "    print('{:2} ->'.format(new_item), my_list)"
   ]
  },
  {
   "cell_type": "markdown",
   "metadata": {},
   "source": [
    "## When a List Is Not the Answer\n",
    "\n",
    "### Arrays\n",
    "`array.array` for number elements.\n",
    " * more efficient than a list\n",
    " * support all mutable sequence operations\n",
    " * like a C array"
   ]
  },
  {
   "cell_type": "code",
   "execution_count": 107,
   "metadata": {},
   "outputs": [
    {
     "name": "stdout",
     "output_type": "stream",
     "text": [
      "True\n"
     ]
    }
   ],
   "source": [
    "from array import array\n",
    "\n",
    "floats = array('d', (random.random() for i in range(10**7)))\n",
    "\n",
    "with open('floats.bin', 'wb') as fp:\n",
    "    floats.tofile(fp)\n",
    "\n",
    "floats2 = array('d')\n",
    "with open('floats.bin', 'rb') as fp:\n",
    "    floats2.fromfile(fp, 10**7)\n",
    "\n",
    "print(floats2 == floats)"
   ]
  },
  {
   "cell_type": "markdown",
   "metadata": {},
   "source": [
    "### Memory Views\n",
    "a shared-memory sequence type that lets you handle slices of arrays without copying bytes."
   ]
  },
  {
   "cell_type": "code",
   "execution_count": 109,
   "metadata": {},
   "outputs": [
    {
     "name": "stdout",
     "output_type": "stream",
     "text": [
      "memv size=  5\n",
      "memv_oct= [254, 255, 255, 255, 0, 0, 1, 0, 2, 0]\n",
      "numbers=  array('h', [-2, -1, 1024, 1, 2])\n"
     ]
    }
   ],
   "source": [
    "numbers = array('h', [-2, -1, 0, 1, 2])\n",
    "memv = memoryview(numbers)\n",
    "\n",
    "print('memv size= ', len(memv))\n",
    "memv_oct = memv.cast('B')\n",
    "print('memv_oct=', memv_oct.tolist())\n",
    "memv_oct[5] = 4\n",
    "print('numbers= ', numbers)"
   ]
  },
  {
   "cell_type": "markdown",
   "metadata": {},
   "source": [
    "### Deques and Other Queues"
   ]
  },
  {
   "cell_type": "code",
   "execution_count": 113,
   "metadata": {},
   "outputs": [
    {
     "name": "stdout",
     "output_type": "stream",
     "text": [
      "deque([0, 1, 2, 3, 4, 5, 6, 7, 8, 9], maxlen=10)\n",
      "deque([7, 8, 9, 0, 1, 2, 3, 4, 5, 6], maxlen=10)\n",
      "deque([1, 2, 3, 4, 5, 6, 7, 8, 9, 0], maxlen=10)\n",
      "deque([-1, 1, 2, 3, 4, 5, 6, 7, 8, 9], maxlen=10)\n",
      "deque([3, 4, 5, 6, 7, 8, 9, 11, 22, 33], maxlen=10)\n",
      "deque([40, 30, 20, 10, 3, 4, 5, 6, 7, 8], maxlen=10)\n"
     ]
    }
   ],
   "source": [
    "from collections import deque\n",
    "dq = deque(range(10), maxlen=10)\n",
    "\n",
    "print(dq)\n",
    "\n",
    "dq.rotate(3)\n",
    "print(dq)\n",
    "\n",
    "dq.rotate(-4)\n",
    "print(dq)\n",
    "\n",
    "dq.appendleft(-1)\n",
    "print(dq)\n",
    "\n",
    "dq.extend([11, 22, 33])\n",
    "print(dq)\n",
    "\n",
    "dq.extendleft([10, 20, 30, 40])\n",
    "print(dq)"
   ]
  }
 ],
 "metadata": {
  "kernelspec": {
   "display_name": "Python 3",
   "language": "python",
   "name": "python3"
  },
  "language_info": {
   "codemirror_mode": {
    "name": "ipython",
    "version": 3
   },
   "file_extension": ".py",
   "mimetype": "text/x-python",
   "name": "python",
   "nbconvert_exporter": "python",
   "pygments_lexer": "ipython3",
   "version": "3.7.3"
  }
 },
 "nbformat": 4,
 "nbformat_minor": 4
}
