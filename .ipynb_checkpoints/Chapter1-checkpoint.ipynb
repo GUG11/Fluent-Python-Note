{
 "cells": [
  {
   "cell_type": "markdown",
   "metadata": {},
   "source": [
    "# Chaper 1 The Python Data Model\n",
    "\n",
    "**Pythonic** Python data model: Python as a framework. `len(collection)` instead of `collection.len()`.\n",
    "\n",
    "The Python interpreter invokes special methods to perform basic object operations, often triggered by special syntax. e.g. `obj[key] --> obj.__getitem__(key)`"
   ]
  },
  {
   "cell_type": "markdown",
   "metadata": {},
   "source": [
    "## A Pythonic Card Deck\n",
    "\n",
    "A simple example demonstrating the power of two special methods `__getitem__` and `__len__`."
   ]
  },
  {
   "cell_type": "code",
   "execution_count": 11,
   "metadata": {},
   "outputs": [],
   "source": [
    "import collections\n",
    "\n",
    "Card = collections.namedtuple('Crad', ['rank', 'suit'])\n",
    "\n",
    "class FrenchDeck:\n",
    "    ranks = [str(n) for n in range(2, 11)] + list('JQKA')\n",
    "    suits = 'spades diamonds clubs hearts'.split()\n",
    "    \n",
    "    def __init__(self):\n",
    "        self._cards = [Card(rank, suit) for suit in self.suits\n",
    "                                        for rank in self.ranks]\n",
    "    \n",
    "    def __len__(self):\n",
    "        return len(self._cards)\n",
    "    \n",
    "    def __getitem__(self, position):\n",
    "        return self._cards[position]"
   ]
  },
  {
   "cell_type": "markdown",
   "metadata": {},
   "source": [
    "`collections.namedtuple` is used to construct a build class that are just a bundles of attributes."
   ]
  },
  {
   "cell_type": "code",
   "execution_count": 10,
   "metadata": {},
   "outputs": [
    {
     "name": "stdout",
     "output_type": "stream",
     "text": [
      "Crad(rank='7', suit='diamonds')\n"
     ]
    }
   ],
   "source": [
    "beer_card = Card('7', 'diamonds')\n",
    "print(beer_card)"
   ]
  },
  {
   "cell_type": "code",
   "execution_count": 12,
   "metadata": {},
   "outputs": [
    {
     "name": "stdout",
     "output_type": "stream",
     "text": [
      "52\n",
      "Crad(rank='2', suit='spades') Crad(rank='3', suit='spades') Crad(rank='A', suit='hearts')\n"
     ]
    }
   ],
   "source": [
    "deck = FrenchDeck()\n",
    "print(len(deck))\n",
    "print(deck[0], deck[1], deck[-1])"
   ]
  },
  {
   "cell_type": "markdown",
   "metadata": {},
   "source": [
    "A deck responds to `len()` by calling`__len__` and `[i]` by calling `__getitem__`.\n",
    "\n",
    "`random.choice` randomly chooses a item from a sequence."
   ]
  },
  {
   "cell_type": "code",
   "execution_count": 14,
   "metadata": {},
   "outputs": [
    {
     "name": "stdout",
     "output_type": "stream",
     "text": [
      "Crad(rank='6', suit='clubs')\n",
      "Crad(rank='10', suit='diamonds')\n"
     ]
    }
   ],
   "source": [
    "from random import choice\n",
    "print(choice(deck))\n",
    "print(choice(deck))"
   ]
  },
  {
   "cell_type": "code",
   "execution_count": 9,
   "metadata": {},
   "outputs": [
    {
     "name": "stdout",
     "output_type": "stream",
     "text": [
      "Help on method choice in module random:\n",
      "\n",
      "choice(seq) method of random.Random instance\n",
      "    Choose a random element from a non-empty sequence.\n",
      "\n"
     ]
    }
   ],
   "source": [
    "help(choice)"
   ]
  },
  {
   "cell_type": "markdown",
   "metadata": {},
   "source": [
    "Because `__getitem__` delegates to `[]`, `deck` automatically supports slicing and iteration."
   ]
  },
  {
   "cell_type": "code",
   "execution_count": 15,
   "metadata": {},
   "outputs": [
    {
     "name": "stdout",
     "output_type": "stream",
     "text": [
      "[Crad(rank='2', suit='spades'), Crad(rank='3', suit='spades'), Crad(rank='4', suit='spades')]\n",
      "[Crad(rank='A', suit='spades'), Crad(rank='A', suit='diamonds'), Crad(rank='A', suit='clubs'), Crad(rank='A', suit='hearts')]\n"
     ]
    }
   ],
   "source": [
    "print(deck[:3])\n",
    "print(deck[12::13])"
   ]
  },
  {
   "cell_type": "code",
   "execution_count": 17,
   "metadata": {},
   "outputs": [
    {
     "name": "stdout",
     "output_type": "stream",
     "text": [
      "enumerate deck\n",
      "Crad(rank='2', suit='spades')\n",
      "Crad(rank='3', suit='spades')\n",
      "Crad(rank='4', suit='spades')\n",
      "Crad(rank='5', suit='spades')\n",
      "Crad(rank='6', suit='spades')\n",
      "Crad(rank='7', suit='spades')\n",
      "Crad(rank='8', suit='spades')\n",
      "Crad(rank='9', suit='spades')\n",
      "Crad(rank='10', suit='spades')\n",
      "Crad(rank='J', suit='spades')\n",
      "Crad(rank='Q', suit='spades')\n",
      "Crad(rank='K', suit='spades')\n",
      "Crad(rank='A', suit='spades')\n",
      "Crad(rank='2', suit='diamonds')\n",
      "Crad(rank='3', suit='diamonds')\n",
      "Crad(rank='4', suit='diamonds')\n",
      "Crad(rank='5', suit='diamonds')\n",
      "Crad(rank='6', suit='diamonds')\n",
      "Crad(rank='7', suit='diamonds')\n",
      "Crad(rank='8', suit='diamonds')\n",
      "Crad(rank='9', suit='diamonds')\n",
      "Crad(rank='10', suit='diamonds')\n",
      "Crad(rank='J', suit='diamonds')\n",
      "Crad(rank='Q', suit='diamonds')\n",
      "Crad(rank='K', suit='diamonds')\n",
      "Crad(rank='A', suit='diamonds')\n",
      "Crad(rank='2', suit='clubs')\n",
      "Crad(rank='3', suit='clubs')\n",
      "Crad(rank='4', suit='clubs')\n",
      "Crad(rank='5', suit='clubs')\n",
      "Crad(rank='6', suit='clubs')\n",
      "Crad(rank='7', suit='clubs')\n",
      "Crad(rank='8', suit='clubs')\n",
      "Crad(rank='9', suit='clubs')\n",
      "Crad(rank='10', suit='clubs')\n",
      "Crad(rank='J', suit='clubs')\n",
      "Crad(rank='Q', suit='clubs')\n",
      "Crad(rank='K', suit='clubs')\n",
      "Crad(rank='A', suit='clubs')\n",
      "Crad(rank='2', suit='hearts')\n",
      "Crad(rank='3', suit='hearts')\n",
      "Crad(rank='4', suit='hearts')\n",
      "Crad(rank='5', suit='hearts')\n",
      "Crad(rank='6', suit='hearts')\n",
      "Crad(rank='7', suit='hearts')\n",
      "Crad(rank='8', suit='hearts')\n",
      "Crad(rank='9', suit='hearts')\n",
      "Crad(rank='10', suit='hearts')\n",
      "Crad(rank='J', suit='hearts')\n",
      "Crad(rank='Q', suit='hearts')\n",
      "Crad(rank='K', suit='hearts')\n",
      "Crad(rank='A', suit='hearts')\n",
      "reverse\n",
      "Crad(rank='A', suit='hearts')\n",
      "Crad(rank='K', suit='hearts')\n",
      "Crad(rank='Q', suit='hearts')\n",
      "Crad(rank='J', suit='hearts')\n",
      "Crad(rank='10', suit='hearts')\n",
      "Crad(rank='9', suit='hearts')\n",
      "Crad(rank='8', suit='hearts')\n",
      "Crad(rank='7', suit='hearts')\n",
      "Crad(rank='6', suit='hearts')\n",
      "Crad(rank='5', suit='hearts')\n",
      "Crad(rank='4', suit='hearts')\n",
      "Crad(rank='3', suit='hearts')\n",
      "Crad(rank='2', suit='hearts')\n",
      "Crad(rank='A', suit='clubs')\n",
      "Crad(rank='K', suit='clubs')\n",
      "Crad(rank='Q', suit='clubs')\n",
      "Crad(rank='J', suit='clubs')\n",
      "Crad(rank='10', suit='clubs')\n",
      "Crad(rank='9', suit='clubs')\n",
      "Crad(rank='8', suit='clubs')\n",
      "Crad(rank='7', suit='clubs')\n",
      "Crad(rank='6', suit='clubs')\n",
      "Crad(rank='5', suit='clubs')\n",
      "Crad(rank='4', suit='clubs')\n",
      "Crad(rank='3', suit='clubs')\n",
      "Crad(rank='2', suit='clubs')\n",
      "Crad(rank='A', suit='diamonds')\n",
      "Crad(rank='K', suit='diamonds')\n",
      "Crad(rank='Q', suit='diamonds')\n",
      "Crad(rank='J', suit='diamonds')\n",
      "Crad(rank='10', suit='diamonds')\n",
      "Crad(rank='9', suit='diamonds')\n",
      "Crad(rank='8', suit='diamonds')\n",
      "Crad(rank='7', suit='diamonds')\n",
      "Crad(rank='6', suit='diamonds')\n",
      "Crad(rank='5', suit='diamonds')\n",
      "Crad(rank='4', suit='diamonds')\n",
      "Crad(rank='3', suit='diamonds')\n",
      "Crad(rank='2', suit='diamonds')\n",
      "Crad(rank='A', suit='spades')\n",
      "Crad(rank='K', suit='spades')\n",
      "Crad(rank='Q', suit='spades')\n",
      "Crad(rank='J', suit='spades')\n",
      "Crad(rank='10', suit='spades')\n",
      "Crad(rank='9', suit='spades')\n",
      "Crad(rank='8', suit='spades')\n",
      "Crad(rank='7', suit='spades')\n",
      "Crad(rank='6', suit='spades')\n",
      "Crad(rank='5', suit='spades')\n",
      "Crad(rank='4', suit='spades')\n",
      "Crad(rank='3', suit='spades')\n",
      "Crad(rank='2', suit='spades')\n"
     ]
    }
   ],
   "source": [
    "print('enumerate deck')\n",
    "for card in deck:\n",
    "    print(card)\n",
    "    \n",
    "print('reverse')\n",
    "for card in reversed(deck):\n",
    "    print(card)"
   ]
  },
  {
   "cell_type": "code",
   "execution_count": null,
   "metadata": {},
   "outputs": [],
   "source": []
  }
 ],
 "metadata": {
  "kernelspec": {
   "display_name": "Python 3",
   "language": "python",
   "name": "python3"
  },
  "language_info": {
   "codemirror_mode": {
    "name": "ipython",
    "version": 3
   },
   "file_extension": ".py",
   "mimetype": "text/x-python",
   "name": "python",
   "nbconvert_exporter": "python",
   "pygments_lexer": "ipython3",
   "version": "3.7.3"
  }
 },
 "nbformat": 4,
 "nbformat_minor": 4
}
