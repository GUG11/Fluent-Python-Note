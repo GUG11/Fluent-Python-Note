{
 "cells": [
  {
   "cell_type": "markdown",
   "metadata": {},
   "source": [
    "# Dictionaries and Sets\n",
    "\n",
    "`dict` is a fundamental part of the Python implementation. Dictionaries are used in\n",
    "\n",
    "* Module namespaces\n",
    "* class and instance attributes\n",
    "* function keyword arguments\n",
    "\n",
    "Python dicts are highly optimized."
   ]
  },
  {
   "cell_type": "code",
   "execution_count": 5,
   "metadata": {},
   "outputs": [
    {
     "data": {
      "text/plain": [
       "True"
      ]
     },
     "execution_count": 5,
     "metadata": {},
     "output_type": "execute_result"
    }
   ],
   "source": [
    "a = dict(one=1, two=2, three=3)\n",
    "b = {'one': 1, 'two': 2, 'three': 3}\n",
    "c = dict(zip(['one', 'two', 'three'], [1, 2, 3]))\n",
    "d = dict([('two', 2), ('one', 1), ('three', 3)])\n",
    "e = dict({'three': 3, 'one': 1, 'two': 2})\n",
    "a == b == c == d == e"
   ]
  },
  {
   "cell_type": "markdown",
   "metadata": {},
   "source": [
    "## dict Comprehensions"
   ]
  },
  {
   "cell_type": "code",
   "execution_count": 10,
   "metadata": {},
   "outputs": [
    {
     "name": "stdout",
     "output_type": "stream",
     "text": [
      "country_code: {'China': 86, 'United States': 1}\n",
      "{1: 'UNITED STATES'}\n"
     ]
    }
   ],
   "source": [
    "DIAL_CODES = [(86, 'China'), (1, 'United States')]\n",
    "\n",
    "country_code = {country: code for code, country in DIAL_CODES}\n",
    "print('country_code:', country_code)\n",
    "print({code: country.upper() for country, code in country_code.items() if code < 66})"
   ]
  },
  {
   "cell_type": "markdown",
   "metadata": {},
   "source": [
    "## Handling Missing Keys with setdefault\n",
    "\n",
    "`d[k]` raises an error when k is not an existing key. `d.get(k, default)` is an alternative, but awkward and inefficient"
   ]
  },
  {
   "cell_type": "code",
   "execution_count": 11,
   "metadata": {},
   "outputs": [
    {
     "name": "stdout",
     "output_type": "stream",
     "text": [
      "{'in': 1, 'line': 1, 'with': 2, 'the': 1, 'fail-fast': 1, 'philosophy': 1, 'dict': 1, 'access': 1, 'raises': 1, 'an': 2, 'error': 1, 'when': 1, 'is': 1, 'not': 1, 'existing': 1, 'key': 1}\n"
     ]
    }
   ],
   "source": [
    "words = 'in line with the fail-fast philosophy dict access with raises an error when is not an existing key'.split()\n",
    "\n",
    "word_count = {}\n",
    "for word in words:\n",
    "    count = word_count.get(word, 0)\n",
    "    count += 1\n",
    "    word_count[word] = count\n",
    "    \n",
    "print(word_count)"
   ]
  },
  {
   "cell_type": "markdown",
   "metadata": {},
   "source": [
    "The three lines dealing with count can be replaced using `dict.setdefault`."
   ]
  },
  {
   "cell_type": "code",
   "execution_count": 14,
   "metadata": {},
   "outputs": [
    {
     "name": "stdout",
     "output_type": "stream",
     "text": [
      "{'in': 1, 'line': 1, 'with': 2, 'the': 1, 'fail-fast': 1, 'philosophy': 1, 'dict': 1, 'access': 1, 'raises': 1, 'an': 2, 'error': 1, 'when': 1, 'is': 1, 'not': 1, 'existing': 1, 'key': 1}\n"
     ]
    }
   ],
   "source": [
    "word_count2 = {}\n",
    "for word in words:\n",
    "    word_count2.setdefault(word, 0)\n",
    "    word_count2[word] += 1\n",
    "\n",
    "print(word_count2)"
   ]
  },
  {
   "cell_type": "markdown",
   "metadata": {},
   "source": [
    "## Mappings with Flexible Key Lookup\n",
    "Two ways to provide default values for missing keys.\n",
    "\n",
    "### defaultdict"
   ]
  },
  {
   "cell_type": "code",
   "execution_count": 18,
   "metadata": {},
   "outputs": [
    {
     "name": "stdout",
     "output_type": "stream",
     "text": [
      "defaultdict(<function <lambda> at 0x7fc79ec13510>, {'in': 1, 'line': 1, 'with': 2, 'the': 1, 'fail-fast': 1, 'philosophy': 1, 'dict': 1, 'access': 1, 'raises': 1, 'an': 2, 'error': 1, 'when': 1, 'is': 1, 'not': 1, 'existing': 1, 'key': 1})\n"
     ]
    }
   ],
   "source": [
    "from collections import defaultdict\n",
    "word_count_dd = defaultdict(lambda :0)\n",
    "\n",
    "for word in words:\n",
    "    word_count_dd[word] += 1\n",
    "\n",
    "print(word_count_dd)"
   ]
  },
  {
   "cell_type": "markdown",
   "metadata": {},
   "source": [
    "When `word` is not in `word_count_dd`, `defaultdict(lambda :0)` will \n",
    "\n",
    "1. call `lambda :0` to create a value 0.\n",
    "1. insert `(word, 0)` into `word_count_dd`.\n",
    "1. return a reference to the value."
   ]
  },
  {
   "cell_type": "markdown",
   "metadata": {},
   "source": [
    "## Variations of dict"
   ]
  },
  {
   "cell_type": "markdown",
   "metadata": {},
   "source": [
    "* `collections.OrderedDict` maintains keys in insertion order.\n",
    "* `collections.ChainMap` Holds a list of mappings that can be searched as one.\n",
    "* `collections.Counter` A mapping that holds an integer count for each key.\n",
    "* `collections.UserDict` A pure Python implementation of a mapping that works like a standard dict. Designed to be subclassed."
   ]
  },
  {
   "cell_type": "code",
   "execution_count": 22,
   "metadata": {},
   "outputs": [],
   "source": [
    "import builtins\n",
    "from collections import ChainMap\n",
    "pylookup = ChainMap(locals(), globals(), vars(builtins))"
   ]
  },
  {
   "cell_type": "code",
   "execution_count": 25,
   "metadata": {},
   "outputs": [
    {
     "name": "stdout",
     "output_type": "stream",
     "text": [
      "Counter({'a': 5, 'b': 2, 'r': 2, 'c': 1, 'd': 1})\n",
      "Counter({'a': 10, 'z': 3, 'b': 2, 'r': 2, 'c': 1, 'd': 1})\n",
      "[('a', 10), ('z', 3)]\n"
     ]
    }
   ],
   "source": [
    "from collections import Counter\n",
    "ct = Counter('abracadabra')\n",
    "print(ct)\n",
    "ct.update('aaaaazzz')\n",
    "print(ct)\n",
    "print(ct.most_common(2))"
   ]
  },
  {
   "cell_type": "markdown",
   "metadata": {},
   "source": [
    "## Immutable Mappings\n",
    "\n",
    "Since Python 3.3, `types` module provides a wrapper class `MappingProxyType`. It returns a `mappingproxy` instance that is a read-only and dynamic view of the original mapping. "
   ]
  },
  {
   "cell_type": "code",
   "execution_count": 27,
   "metadata": {},
   "outputs": [
    {
     "name": "stdout",
     "output_type": "stream",
     "text": [
      "{1: 'A'}\n"
     ]
    }
   ],
   "source": [
    "from types import MappingProxyType\n",
    "\n",
    "d = {1: 'A'}\n",
    "d_proxy = MappingProxyType(d)\n",
    "print(d_proxy)"
   ]
  },
  {
   "cell_type": "code",
   "execution_count": 28,
   "metadata": {},
   "outputs": [
    {
     "ename": "TypeError",
     "evalue": "'mappingproxy' object does not support item assignment",
     "output_type": "error",
     "traceback": [
      "\u001b[0;31m---------------------------------------------------------------------------\u001b[0m",
      "\u001b[0;31mTypeError\u001b[0m                                 Traceback (most recent call last)",
      "\u001b[0;32m<ipython-input-28-bc17a9a62754>\u001b[0m in \u001b[0;36m<module>\u001b[0;34m\u001b[0m\n\u001b[0;32m----> 1\u001b[0;31m \u001b[0md_proxy\u001b[0m\u001b[0;34m[\u001b[0m\u001b[0;36m2\u001b[0m\u001b[0;34m]\u001b[0m \u001b[0;34m=\u001b[0m \u001b[0;34m'x'\u001b[0m\u001b[0;34m\u001b[0m\u001b[0;34m\u001b[0m\u001b[0m\n\u001b[0m",
      "\u001b[0;31mTypeError\u001b[0m: 'mappingproxy' object does not support item assignment"
     ]
    }
   ],
   "source": [
    "d_proxy[2] = 'x'"
   ]
  },
  {
   "cell_type": "code",
   "execution_count": 29,
   "metadata": {},
   "outputs": [
    {
     "name": "stdout",
     "output_type": "stream",
     "text": [
      "{1: 'A', 2: 'B'}\n"
     ]
    }
   ],
   "source": [
    "d[2] = 'B'\n",
    "print(d_proxy)"
   ]
  },
  {
   "cell_type": "markdown",
   "metadata": {},
   "source": [
    "## Set Theory\n",
    "\n",
    "A set is a collection of unique objects. Set elements must be hashable. `set` is not hashable, but `fronzenset` is."
   ]
  },
  {
   "cell_type": "code",
   "execution_count": 30,
   "metadata": {},
   "outputs": [
    {
     "name": "stdout",
     "output_type": "stream",
     "text": [
      "{'spam', 'eggs'}\n"
     ]
    }
   ],
   "source": [
    "l = ['spam', 'spam', 'eggs', 'spam']\n",
    "print(set(l))"
   ]
  },
  {
   "cell_type": "markdown",
   "metadata": {},
   "source": [
    "Count occurrences of needles in a haystack"
   ]
  },
  {
   "cell_type": "code",
   "execution_count": 2,
   "metadata": {},
   "outputs": [
    {
     "name": "stdout",
     "output_type": "stream",
     "text": [
      "2\n"
     ]
    }
   ],
   "source": [
    "needles = {'a', 'b'}\n",
    "haystack = {'a', 'b', 'c', 'd', 'f'}\n",
    "found = len(needles & haystack)\n",
    "print(found)"
   ]
  },
  {
   "cell_type": "markdown",
   "metadata": {},
   "source": [
    "### set Literals\n",
    "\n",
    "No literal notation for the empty `set`."
   ]
  },
  {
   "cell_type": "code",
   "execution_count": 6,
   "metadata": {},
   "outputs": [
    {
     "name": "stdout",
     "output_type": "stream",
     "text": [
      "<class 'dict'>\n"
     ]
    }
   ],
   "source": [
    "s = {}\n",
    "print(type(s))"
   ]
  },
  {
   "cell_type": "markdown",
   "metadata": {},
   "source": [
    "### Set Comprehensions"
   ]
  },
  {
   "cell_type": "code",
   "execution_count": 7,
   "metadata": {},
   "outputs": [
    {
     "data": {
      "text/plain": [
       "{'#',\n",
       " '$',\n",
       " '%',\n",
       " '+',\n",
       " '<',\n",
       " '=',\n",
       " '>',\n",
       " '¢',\n",
       " '£',\n",
       " '¤',\n",
       " '¥',\n",
       " '§',\n",
       " '©',\n",
       " '¬',\n",
       " '®',\n",
       " '°',\n",
       " '±',\n",
       " 'µ',\n",
       " '¶',\n",
       " '×',\n",
       " '÷'}"
      ]
     },
     "execution_count": 7,
     "metadata": {},
     "output_type": "execute_result"
    }
   ],
   "source": [
    "from unicodedata import name\n",
    "{chr(i) for i in range(32, 256) if 'SIGN' in name(chr(i), '')}"
   ]
  },
  {
   "cell_type": "markdown",
   "metadata": {},
   "source": [
    "## dict and set Under the Hood\n",
    "\n",
    "### Key ordering depends on insertion order"
   ]
  },
  {
   "cell_type": "code",
   "execution_count": 10,
   "metadata": {},
   "outputs": [
    {
     "name": "stdout",
     "output_type": "stream",
     "text": [
      "d1: dict_keys([86, 91, 1, 62, 55])\n",
      "d2: dict_keys([1, 55, 62, 86, 91])\n",
      "d3: dict_keys([55, 86, 91, 62, 1])\n"
     ]
    }
   ],
   "source": [
    "DIAL_CODES = [\n",
    "    (86, 'China'),\n",
    "    (91, 'India'),\n",
    "    (1, 'United States'),\n",
    "    (62, 'Indonesia'),\n",
    "    (55, 'Brazil')\n",
    "]\n",
    "\n",
    "d1 = dict(DIAL_CODES)\n",
    "print('d1:', d1.keys())\n",
    "d2 = dict(sorted(DIAL_CODES))\n",
    "print('d2:', d2.keys())\n",
    "d3 = dict(sorted(DIAL_CODES, key=lambda x:x[1]))\n",
    "print('d3:', d3.keys())\n",
    "assert d1 == d2 == d3"
   ]
  }
 ],
 "metadata": {
  "kernelspec": {
   "display_name": "Python 3",
   "language": "python",
   "name": "python3"
  },
  "language_info": {
   "codemirror_mode": {
    "name": "ipython",
    "version": 3
   },
   "file_extension": ".py",
   "mimetype": "text/x-python",
   "name": "python",
   "nbconvert_exporter": "python",
   "pygments_lexer": "ipython3",
   "version": "3.7.3"
  }
 },
 "nbformat": 4,
 "nbformat_minor": 4
}
